{
  "nbformat": 4,
  "nbformat_minor": 0,
  "metadata": {
    "colab": {
      "name": "Portfolio_Analysis.ipynb",
      "provenance": [],
      "authorship_tag": "ABX9TyOaq4qVUNZlPJyAs5aGMOUS",
      "include_colab_link": true
    },
    "kernelspec": {
      "name": "python3",
      "display_name": "Python 3"
    }
  },
  "cells": [
    {
      "cell_type": "markdown",
      "metadata": {
        "id": "view-in-github",
        "colab_type": "text"
      },
      "source": [
        "<a href=\"https://colab.research.google.com/github/steve122192/stock_portfolio_analysis/blob/master/Portfolio_Analysis.ipynb\" target=\"_parent\"><img src=\"https://colab.research.google.com/assets/colab-badge.svg\" alt=\"Open In Colab\"/></a>"
      ]
    },
    {
      "cell_type": "code",
      "metadata": {
        "id": "maPwKv1mHNUK",
        "colab_type": "code",
        "colab": {
          "base_uri": "https://localhost:8080/",
          "height": 241
        },
        "outputId": "6e1149f0-2987-43db-fcad-6b87abc2c484"
      },
      "source": [
        "!pip install yfinance\n",
        "import yfinance as yf\n",
        "import datetime\n",
        "import pandas_datareader.data as web\n",
        "%matplotlib inline\n",
        "import matplotlib.pyplot as plt\n"
      ],
      "execution_count": 15,
      "outputs": [
        {
          "output_type": "stream",
          "text": [
            "Requirement already satisfied: yfinance in /usr/local/lib/python3.6/dist-packages (0.1.54)\n",
            "Requirement already satisfied: multitasking>=0.0.7 in /usr/local/lib/python3.6/dist-packages (from yfinance) (0.0.9)\n",
            "Requirement already satisfied: numpy>=1.15 in /usr/local/lib/python3.6/dist-packages (from yfinance) (1.18.5)\n",
            "Requirement already satisfied: pandas>=0.24 in /usr/local/lib/python3.6/dist-packages (from yfinance) (1.0.5)\n",
            "Requirement already satisfied: requests>=2.20 in /usr/local/lib/python3.6/dist-packages (from yfinance) (2.23.0)\n",
            "Requirement already satisfied: python-dateutil>=2.6.1 in /usr/local/lib/python3.6/dist-packages (from pandas>=0.24->yfinance) (2.8.1)\n",
            "Requirement already satisfied: pytz>=2017.2 in /usr/local/lib/python3.6/dist-packages (from pandas>=0.24->yfinance) (2018.9)\n",
            "Requirement already satisfied: urllib3!=1.25.0,!=1.25.1,<1.26,>=1.21.1 in /usr/local/lib/python3.6/dist-packages (from requests>=2.20->yfinance) (1.24.3)\n",
            "Requirement already satisfied: idna<3,>=2.5 in /usr/local/lib/python3.6/dist-packages (from requests>=2.20->yfinance) (2.10)\n",
            "Requirement already satisfied: chardet<4,>=3.0.2 in /usr/local/lib/python3.6/dist-packages (from requests>=2.20->yfinance) (3.0.4)\n",
            "Requirement already satisfied: certifi>=2017.4.17 in /usr/local/lib/python3.6/dist-packages (from requests>=2.20->yfinance) (2020.6.20)\n",
            "Requirement already satisfied: six>=1.5 in /usr/local/lib/python3.6/dist-packages (from python-dateutil>=2.6.1->pandas>=0.24->yfinance) (1.15.0)\n"
          ],
          "name": "stdout"
        }
      ]
    },
    {
      "cell_type": "code",
      "metadata": {
        "id": "lD0lztdCIMhc",
        "colab_type": "code",
        "colab": {}
      },
      "source": [
        "top_holdings = ['PENN','TSLA','AMZN']\n",
        "start = datetime.datetime(2019, 1, 1)\n",
        "end = datetime.datetime(2020, 9, 16)"
      ],
      "execution_count": 16,
      "outputs": []
    },
    {
      "cell_type": "code",
      "metadata": {
        "id": "nPtbTKh0QhT0",
        "colab_type": "code",
        "colab": {
          "base_uri": "https://localhost:8080/",
          "height": 501
        },
        "outputId": "a557801b-7d4b-4441-e91b-72b082c1ab66"
      },
      "source": [
        "df = web.DataReader(top_holdings,'yahoo',start=start,end=end)\n",
        "df"
      ],
      "execution_count": 17,
      "outputs": [
        {
          "output_type": "execute_result",
          "data": {
            "text/html": [
              "<div>\n",
              "<style scoped>\n",
              "    .dataframe tbody tr th:only-of-type {\n",
              "        vertical-align: middle;\n",
              "    }\n",
              "\n",
              "    .dataframe tbody tr th {\n",
              "        vertical-align: top;\n",
              "    }\n",
              "\n",
              "    .dataframe thead tr th {\n",
              "        text-align: left;\n",
              "    }\n",
              "\n",
              "    .dataframe thead tr:last-of-type th {\n",
              "        text-align: right;\n",
              "    }\n",
              "</style>\n",
              "<table border=\"1\" class=\"dataframe\">\n",
              "  <thead>\n",
              "    <tr>\n",
              "      <th>Attributes</th>\n",
              "      <th colspan=\"3\" halign=\"left\">Adj Close</th>\n",
              "      <th colspan=\"3\" halign=\"left\">Close</th>\n",
              "      <th colspan=\"3\" halign=\"left\">High</th>\n",
              "      <th colspan=\"3\" halign=\"left\">Low</th>\n",
              "      <th colspan=\"3\" halign=\"left\">Open</th>\n",
              "      <th colspan=\"3\" halign=\"left\">Volume</th>\n",
              "    </tr>\n",
              "    <tr>\n",
              "      <th>Symbols</th>\n",
              "      <th>PENN</th>\n",
              "      <th>TSLA</th>\n",
              "      <th>AMZN</th>\n",
              "      <th>PENN</th>\n",
              "      <th>TSLA</th>\n",
              "      <th>AMZN</th>\n",
              "      <th>PENN</th>\n",
              "      <th>TSLA</th>\n",
              "      <th>AMZN</th>\n",
              "      <th>PENN</th>\n",
              "      <th>TSLA</th>\n",
              "      <th>AMZN</th>\n",
              "      <th>PENN</th>\n",
              "      <th>TSLA</th>\n",
              "      <th>AMZN</th>\n",
              "      <th>PENN</th>\n",
              "      <th>TSLA</th>\n",
              "      <th>AMZN</th>\n",
              "    </tr>\n",
              "    <tr>\n",
              "      <th>Date</th>\n",
              "      <th></th>\n",
              "      <th></th>\n",
              "      <th></th>\n",
              "      <th></th>\n",
              "      <th></th>\n",
              "      <th></th>\n",
              "      <th></th>\n",
              "      <th></th>\n",
              "      <th></th>\n",
              "      <th></th>\n",
              "      <th></th>\n",
              "      <th></th>\n",
              "      <th></th>\n",
              "      <th></th>\n",
              "      <th></th>\n",
              "      <th></th>\n",
              "      <th></th>\n",
              "      <th></th>\n",
              "    </tr>\n",
              "  </thead>\n",
              "  <tbody>\n",
              "    <tr>\n",
              "      <th>2019-01-02</th>\n",
              "      <td>19.450001</td>\n",
              "      <td>62.023998</td>\n",
              "      <td>1539.130005</td>\n",
              "      <td>19.450001</td>\n",
              "      <td>62.023998</td>\n",
              "      <td>1539.130005</td>\n",
              "      <td>19.740000</td>\n",
              "      <td>63.026001</td>\n",
              "      <td>1553.359985</td>\n",
              "      <td>18.280001</td>\n",
              "      <td>59.759998</td>\n",
              "      <td>1460.930054</td>\n",
              "      <td>18.500000</td>\n",
              "      <td>61.220001</td>\n",
              "      <td>1465.199951</td>\n",
              "      <td>2580900.0</td>\n",
              "      <td>58293000.0</td>\n",
              "      <td>7983100.0</td>\n",
              "    </tr>\n",
              "    <tr>\n",
              "      <th>2019-01-03</th>\n",
              "      <td>19.940001</td>\n",
              "      <td>60.071999</td>\n",
              "      <td>1500.280029</td>\n",
              "      <td>19.940001</td>\n",
              "      <td>60.071999</td>\n",
              "      <td>1500.280029</td>\n",
              "      <td>20.290001</td>\n",
              "      <td>61.880001</td>\n",
              "      <td>1538.000000</td>\n",
              "      <td>19.120001</td>\n",
              "      <td>59.476002</td>\n",
              "      <td>1497.109985</td>\n",
              "      <td>19.230000</td>\n",
              "      <td>61.400002</td>\n",
              "      <td>1520.010010</td>\n",
              "      <td>2998100.0</td>\n",
              "      <td>34826000.0</td>\n",
              "      <td>6975600.0</td>\n",
              "    </tr>\n",
              "    <tr>\n",
              "      <th>2019-01-04</th>\n",
              "      <td>21.180000</td>\n",
              "      <td>63.537998</td>\n",
              "      <td>1575.390015</td>\n",
              "      <td>21.180000</td>\n",
              "      <td>63.537998</td>\n",
              "      <td>1575.390015</td>\n",
              "      <td>21.420000</td>\n",
              "      <td>63.599998</td>\n",
              "      <td>1594.000000</td>\n",
              "      <td>20.330000</td>\n",
              "      <td>60.546001</td>\n",
              "      <td>1518.310059</td>\n",
              "      <td>20.360001</td>\n",
              "      <td>61.200001</td>\n",
              "      <td>1530.000000</td>\n",
              "      <td>2910300.0</td>\n",
              "      <td>36970500.0</td>\n",
              "      <td>9182600.0</td>\n",
              "    </tr>\n",
              "    <tr>\n",
              "      <th>2019-01-07</th>\n",
              "      <td>22.510000</td>\n",
              "      <td>66.991997</td>\n",
              "      <td>1629.510010</td>\n",
              "      <td>22.510000</td>\n",
              "      <td>66.991997</td>\n",
              "      <td>1629.510010</td>\n",
              "      <td>22.629999</td>\n",
              "      <td>67.348000</td>\n",
              "      <td>1634.560059</td>\n",
              "      <td>20.760000</td>\n",
              "      <td>63.549999</td>\n",
              "      <td>1589.189941</td>\n",
              "      <td>21.000000</td>\n",
              "      <td>64.344002</td>\n",
              "      <td>1602.310059</td>\n",
              "      <td>4561900.0</td>\n",
              "      <td>37756000.0</td>\n",
              "      <td>7993200.0</td>\n",
              "    </tr>\n",
              "    <tr>\n",
              "      <th>2019-01-08</th>\n",
              "      <td>23.190001</td>\n",
              "      <td>67.070000</td>\n",
              "      <td>1656.579956</td>\n",
              "      <td>23.190001</td>\n",
              "      <td>67.070000</td>\n",
              "      <td>1656.579956</td>\n",
              "      <td>23.260000</td>\n",
              "      <td>68.802002</td>\n",
              "      <td>1676.609985</td>\n",
              "      <td>22.209999</td>\n",
              "      <td>65.403999</td>\n",
              "      <td>1616.609985</td>\n",
              "      <td>22.790001</td>\n",
              "      <td>68.391998</td>\n",
              "      <td>1664.689941</td>\n",
              "      <td>3036500.0</td>\n",
              "      <td>35042500.0</td>\n",
              "      <td>8881400.0</td>\n",
              "    </tr>\n",
              "    <tr>\n",
              "      <th>...</th>\n",
              "      <td>...</td>\n",
              "      <td>...</td>\n",
              "      <td>...</td>\n",
              "      <td>...</td>\n",
              "      <td>...</td>\n",
              "      <td>...</td>\n",
              "      <td>...</td>\n",
              "      <td>...</td>\n",
              "      <td>...</td>\n",
              "      <td>...</td>\n",
              "      <td>...</td>\n",
              "      <td>...</td>\n",
              "      <td>...</td>\n",
              "      <td>...</td>\n",
              "      <td>...</td>\n",
              "      <td>...</td>\n",
              "      <td>...</td>\n",
              "      <td>...</td>\n",
              "    </tr>\n",
              "    <tr>\n",
              "      <th>2020-09-10</th>\n",
              "      <td>62.459999</td>\n",
              "      <td>371.339996</td>\n",
              "      <td>3175.110107</td>\n",
              "      <td>62.459999</td>\n",
              "      <td>371.339996</td>\n",
              "      <td>3175.110107</td>\n",
              "      <td>65.790001</td>\n",
              "      <td>398.989990</td>\n",
              "      <td>3349.889893</td>\n",
              "      <td>60.930000</td>\n",
              "      <td>360.559998</td>\n",
              "      <td>3170.550049</td>\n",
              "      <td>61.299999</td>\n",
              "      <td>386.209991</td>\n",
              "      <td>3307.219971</td>\n",
              "      <td>20658500.0</td>\n",
              "      <td>84930600.0</td>\n",
              "      <td>5330700.0</td>\n",
              "    </tr>\n",
              "    <tr>\n",
              "      <th>2020-09-11</th>\n",
              "      <td>59.189999</td>\n",
              "      <td>372.720001</td>\n",
              "      <td>3116.219971</td>\n",
              "      <td>59.189999</td>\n",
              "      <td>372.720001</td>\n",
              "      <td>3116.219971</td>\n",
              "      <td>63.919998</td>\n",
              "      <td>382.500000</td>\n",
              "      <td>3217.340088</td>\n",
              "      <td>57.639999</td>\n",
              "      <td>360.500000</td>\n",
              "      <td>3083.979980</td>\n",
              "      <td>63.270000</td>\n",
              "      <td>381.940002</td>\n",
              "      <td>3208.689941</td>\n",
              "      <td>9485000.0</td>\n",
              "      <td>60717500.0</td>\n",
              "      <td>5094000.0</td>\n",
              "    </tr>\n",
              "    <tr>\n",
              "      <th>2020-09-14</th>\n",
              "      <td>65.540001</td>\n",
              "      <td>419.619995</td>\n",
              "      <td>3102.969971</td>\n",
              "      <td>65.540001</td>\n",
              "      <td>419.619995</td>\n",
              "      <td>3102.969971</td>\n",
              "      <td>65.940002</td>\n",
              "      <td>420.000000</td>\n",
              "      <td>3187.389893</td>\n",
              "      <td>59.410000</td>\n",
              "      <td>373.299988</td>\n",
              "      <td>3096.000000</td>\n",
              "      <td>60.220001</td>\n",
              "      <td>380.950012</td>\n",
              "      <td>3172.939941</td>\n",
              "      <td>11293000.0</td>\n",
              "      <td>83020600.0</td>\n",
              "      <td>4529600.0</td>\n",
              "    </tr>\n",
              "    <tr>\n",
              "      <th>2020-09-15</th>\n",
              "      <td>68.230003</td>\n",
              "      <td>449.760010</td>\n",
              "      <td>3156.129883</td>\n",
              "      <td>68.230003</td>\n",
              "      <td>449.760010</td>\n",
              "      <td>3156.129883</td>\n",
              "      <td>69.989998</td>\n",
              "      <td>461.940002</td>\n",
              "      <td>3175.020020</td>\n",
              "      <td>63.599998</td>\n",
              "      <td>430.700012</td>\n",
              "      <td>3108.919922</td>\n",
              "      <td>66.019997</td>\n",
              "      <td>436.559998</td>\n",
              "      <td>3136.159912</td>\n",
              "      <td>11630200.0</td>\n",
              "      <td>97298200.0</td>\n",
              "      <td>4021500.0</td>\n",
              "    </tr>\n",
              "    <tr>\n",
              "      <th>2020-09-16</th>\n",
              "      <td>67.839996</td>\n",
              "      <td>441.760010</td>\n",
              "      <td>3078.100098</td>\n",
              "      <td>67.839996</td>\n",
              "      <td>441.760010</td>\n",
              "      <td>3078.100098</td>\n",
              "      <td>71.010002</td>\n",
              "      <td>457.790009</td>\n",
              "      <td>3187.239990</td>\n",
              "      <td>67.309998</td>\n",
              "      <td>435.309998</td>\n",
              "      <td>3074.149902</td>\n",
              "      <td>68.199997</td>\n",
              "      <td>439.869995</td>\n",
              "      <td>3179.989990</td>\n",
              "      <td>8033900.0</td>\n",
              "      <td>72279300.0</td>\n",
              "      <td>4512200.0</td>\n",
              "    </tr>\n",
              "  </tbody>\n",
              "</table>\n",
              "<p>431 rows × 18 columns</p>\n",
              "</div>"
            ],
            "text/plain": [
              "Attributes  Adj Close              ...      Volume           \n",
              "Symbols          PENN        TSLA  ...        TSLA       AMZN\n",
              "Date                               ...                       \n",
              "2019-01-02  19.450001   62.023998  ...  58293000.0  7983100.0\n",
              "2019-01-03  19.940001   60.071999  ...  34826000.0  6975600.0\n",
              "2019-01-04  21.180000   63.537998  ...  36970500.0  9182600.0\n",
              "2019-01-07  22.510000   66.991997  ...  37756000.0  7993200.0\n",
              "2019-01-08  23.190001   67.070000  ...  35042500.0  8881400.0\n",
              "...               ...         ...  ...         ...        ...\n",
              "2020-09-10  62.459999  371.339996  ...  84930600.0  5330700.0\n",
              "2020-09-11  59.189999  372.720001  ...  60717500.0  5094000.0\n",
              "2020-09-14  65.540001  419.619995  ...  83020600.0  4529600.0\n",
              "2020-09-15  68.230003  449.760010  ...  97298200.0  4021500.0\n",
              "2020-09-16  67.839996  441.760010  ...  72279300.0  4512200.0\n",
              "\n",
              "[431 rows x 18 columns]"
            ]
          },
          "metadata": {
            "tags": []
          },
          "execution_count": 17
        }
      ]
    },
    {
      "cell_type": "code",
      "metadata": {
        "id": "gxzujImvQ2XG",
        "colab_type": "code",
        "colab": {
          "base_uri": "https://localhost:8080/",
          "height": 450
        },
        "outputId": "74858ed4-b7e8-4ebb-e2df-3b6062e07361"
      },
      "source": [
        "close = df['Close']\n",
        "close"
      ],
      "execution_count": 18,
      "outputs": [
        {
          "output_type": "execute_result",
          "data": {
            "text/html": [
              "<div>\n",
              "<style scoped>\n",
              "    .dataframe tbody tr th:only-of-type {\n",
              "        vertical-align: middle;\n",
              "    }\n",
              "\n",
              "    .dataframe tbody tr th {\n",
              "        vertical-align: top;\n",
              "    }\n",
              "\n",
              "    .dataframe thead th {\n",
              "        text-align: right;\n",
              "    }\n",
              "</style>\n",
              "<table border=\"1\" class=\"dataframe\">\n",
              "  <thead>\n",
              "    <tr style=\"text-align: right;\">\n",
              "      <th>Symbols</th>\n",
              "      <th>PENN</th>\n",
              "      <th>TSLA</th>\n",
              "      <th>AMZN</th>\n",
              "    </tr>\n",
              "    <tr>\n",
              "      <th>Date</th>\n",
              "      <th></th>\n",
              "      <th></th>\n",
              "      <th></th>\n",
              "    </tr>\n",
              "  </thead>\n",
              "  <tbody>\n",
              "    <tr>\n",
              "      <th>2019-01-02</th>\n",
              "      <td>19.450001</td>\n",
              "      <td>62.023998</td>\n",
              "      <td>1539.130005</td>\n",
              "    </tr>\n",
              "    <tr>\n",
              "      <th>2019-01-03</th>\n",
              "      <td>19.940001</td>\n",
              "      <td>60.071999</td>\n",
              "      <td>1500.280029</td>\n",
              "    </tr>\n",
              "    <tr>\n",
              "      <th>2019-01-04</th>\n",
              "      <td>21.180000</td>\n",
              "      <td>63.537998</td>\n",
              "      <td>1575.390015</td>\n",
              "    </tr>\n",
              "    <tr>\n",
              "      <th>2019-01-07</th>\n",
              "      <td>22.510000</td>\n",
              "      <td>66.991997</td>\n",
              "      <td>1629.510010</td>\n",
              "    </tr>\n",
              "    <tr>\n",
              "      <th>2019-01-08</th>\n",
              "      <td>23.190001</td>\n",
              "      <td>67.070000</td>\n",
              "      <td>1656.579956</td>\n",
              "    </tr>\n",
              "    <tr>\n",
              "      <th>...</th>\n",
              "      <td>...</td>\n",
              "      <td>...</td>\n",
              "      <td>...</td>\n",
              "    </tr>\n",
              "    <tr>\n",
              "      <th>2020-09-10</th>\n",
              "      <td>62.459999</td>\n",
              "      <td>371.339996</td>\n",
              "      <td>3175.110107</td>\n",
              "    </tr>\n",
              "    <tr>\n",
              "      <th>2020-09-11</th>\n",
              "      <td>59.189999</td>\n",
              "      <td>372.720001</td>\n",
              "      <td>3116.219971</td>\n",
              "    </tr>\n",
              "    <tr>\n",
              "      <th>2020-09-14</th>\n",
              "      <td>65.540001</td>\n",
              "      <td>419.619995</td>\n",
              "      <td>3102.969971</td>\n",
              "    </tr>\n",
              "    <tr>\n",
              "      <th>2020-09-15</th>\n",
              "      <td>68.230003</td>\n",
              "      <td>449.760010</td>\n",
              "      <td>3156.129883</td>\n",
              "    </tr>\n",
              "    <tr>\n",
              "      <th>2020-09-16</th>\n",
              "      <td>67.839996</td>\n",
              "      <td>441.760010</td>\n",
              "      <td>3078.100098</td>\n",
              "    </tr>\n",
              "  </tbody>\n",
              "</table>\n",
              "<p>431 rows × 3 columns</p>\n",
              "</div>"
            ],
            "text/plain": [
              "Symbols          PENN        TSLA         AMZN\n",
              "Date                                          \n",
              "2019-01-02  19.450001   62.023998  1539.130005\n",
              "2019-01-03  19.940001   60.071999  1500.280029\n",
              "2019-01-04  21.180000   63.537998  1575.390015\n",
              "2019-01-07  22.510000   66.991997  1629.510010\n",
              "2019-01-08  23.190001   67.070000  1656.579956\n",
              "...               ...         ...          ...\n",
              "2020-09-10  62.459999  371.339996  3175.110107\n",
              "2020-09-11  59.189999  372.720001  3116.219971\n",
              "2020-09-14  65.540001  419.619995  3102.969971\n",
              "2020-09-15  68.230003  449.760010  3156.129883\n",
              "2020-09-16  67.839996  441.760010  3078.100098\n",
              "\n",
              "[431 rows x 3 columns]"
            ]
          },
          "metadata": {
            "tags": []
          },
          "execution_count": 18
        }
      ]
    },
    {
      "cell_type": "code",
      "metadata": {
        "id": "lQYv_PKDXbBs",
        "colab_type": "code",
        "colab": {
          "base_uri": "https://localhost:8080/",
          "height": 238
        },
        "outputId": "edfa3402-e668-41bb-a951-bc09536b53c2"
      },
      "source": [
        "(close['TSLA'].pct_change()+1).cumprod()-1"
      ],
      "execution_count": 41,
      "outputs": [
        {
          "output_type": "execute_result",
          "data": {
            "text/plain": [
              "Date\n",
              "2019-01-02         NaN\n",
              "2019-01-03   -0.031472\n",
              "2019-01-04    0.024410\n",
              "2019-01-07    0.080098\n",
              "2019-01-08    0.081356\n",
              "                ...   \n",
              "2020-09-10    4.987037\n",
              "2020-09-11    5.009287\n",
              "2020-09-14    5.765446\n",
              "2020-09-15    6.251387\n",
              "2020-09-16    6.122405\n",
              "Name: TSLA, Length: 431, dtype: float64"
            ]
          },
          "metadata": {
            "tags": []
          },
          "execution_count": 41
        }
      ]
    },
    {
      "cell_type": "code",
      "metadata": {
        "id": "NewsXf8kT6E8",
        "colab_type": "code",
        "colab": {
          "base_uri": "https://localhost:8080/",
          "height": 238
        },
        "outputId": "7cf5f3a7-4a73-4ca1-9c3b-24c603f25b5a"
      },
      "source": [
        "((close['TSLA'].pct_change()+1).cumprod()-1)*100"
      ],
      "execution_count": 39,
      "outputs": [
        {
          "output_type": "execute_result",
          "data": {
            "text/plain": [
              "Date\n",
              "2019-01-02           NaN\n",
              "2019-01-03     -3.147168\n",
              "2019-01-04      2.440991\n",
              "2019-01-07      8.009800\n",
              "2019-01-08      8.135563\n",
              "                 ...    \n",
              "2020-09-10    498.703738\n",
              "2020-09-11    500.928692\n",
              "2020-09-14    576.544574\n",
              "2020-09-15    625.138692\n",
              "2020-09-16    612.240459\n",
              "Name: TSLA, Length: 431, dtype: float64"
            ]
          },
          "metadata": {
            "tags": []
          },
          "execution_count": 39
        }
      ]
    },
    {
      "cell_type": "code",
      "metadata": {
        "id": "dhpjfHBbRVCJ",
        "colab_type": "code",
        "colab": {
          "base_uri": "https://localhost:8080/",
          "height": 441
        },
        "outputId": "a5d4a9c5-b536-41a7-f257-118ee32e977b"
      },
      "source": [
        "fig, ax = plt.subplots(figsize=(12,6))\n",
        "plt.style.use('fivethirtyeight')\n",
        "for ticker in top_holdings:\n",
        "  ax.plot(((close[ticker].pct_change()+1).cumprod()-1)*100, linewidth=1.5, label=ticker)\n",
        "ax.legend()\n",
        "plt.title('Cumulative Return of Top Holdings')\n",
        "plt.ylabel('Percent Return')\n",
        "plt.xlabel('Date')\n",
        "plt.show()\n",
        "plt.close()"
      ],
      "execution_count": 53,
      "outputs": [
        {
          "output_type": "display_data",
          "data": {
            "image/png": "[encoded data removed]",
            "text/plain": [
              "<Figure size 864x432 with 1 Axes>"
            ]
          },
          "metadata": {
            "tags": []
          }
        }
      ]
    },
    {
      "cell_type": "code",
      "metadata": {
        "id": "dmDqs5C1RqFM",
        "colab_type": "code",
        "colab": {
          "base_uri": "https://localhost:8080/",
          "height": 441
        },
        "outputId": "8e0f7d75-e800-4a8e-8636-5817a93b4279"
      },
      "source": [
        "daily_returns = close.pct_change()\n",
        "daily_returns.plot.hist(bins=100, figsize=(10,6))\n",
        "plt.title('Volatility')\n",
        "plt.xlabel('Daily Returns')\n",
        "plt.show()"
      ],
      "execution_count": 59,
      "outputs": [
        {
          "output_type": "display_data",
          "data": {
            "image/png": "[encoded data removed]",
            "text/plain": [
              "<Figure size 720x432 with 1 Axes>"
            ]
          },
          "metadata": {
            "tags": []
          }
        }
      ]
    },
    {
      "cell_type": "code",
      "metadata": {
        "id": "raLYM6DLbQgw",
        "colab_type": "code",
        "colab": {
          "base_uri": "https://localhost:8080/",
          "height": 238
        },
        "outputId": "5d2327ab-0d29-423b-f089-74a052c47ba2"
      },
      "source": [
        "close['PENN']"
      ],
      "execution_count": 60,
      "outputs": [
        {
          "output_type": "execute_result",
          "data": {
            "text/plain": [
              "Date\n",
              "2019-01-02    19.450001\n",
              "2019-01-03    19.940001\n",
              "2019-01-04    21.180000\n",
              "2019-01-07    22.510000\n",
              "2019-01-08    23.190001\n",
              "                ...    \n",
              "2020-09-10    62.459999\n",
              "2020-09-11    59.189999\n",
              "2020-09-14    65.540001\n",
              "2020-09-15    68.230003\n",
              "2020-09-16    67.839996\n",
              "Name: PENN, Length: 431, dtype: float64"
            ]
          },
          "metadata": {
            "tags": []
          },
          "execution_count": 60
        }
      ]
    },
    {
      "cell_type": "code",
      "metadata": {
        "id": "cib12KRXc4dC",
        "colab_type": "code",
        "colab": {}
      },
      "source": [
        "import numpy as np\n",
        "import plotly.graph_objects as go"
      ],
      "execution_count": 61,
      "outputs": []
    },
    {
      "cell_type": "code",
      "metadata": {
        "id": "fm6gxfmrclMn",
        "colab_type": "code",
        "colab": {
          "base_uri": "https://localhost:8080/",
          "height": 450
        },
        "outputId": "74028c4a-b994-4a2d-87da-6a8affae9c84"
      },
      "source": [
        "penn_data = web.DataReader('PENN','yahoo',start=start,end=end)\n",
        "penn_data"
      ],
      "execution_count": 62,
      "outputs": [
        {
          "output_type": "execute_result",
          "data": {
            "text/html": [
              "<div>\n",
              "<style scoped>\n",
              "    .dataframe tbody tr th:only-of-type {\n",
              "        vertical-align: middle;\n",
              "    }\n",
              "\n",
              "    .dataframe tbody tr th {\n",
              "        vertical-align: top;\n",
              "    }\n",
              "\n",
              "    .dataframe thead th {\n",
              "        text-align: right;\n",
              "    }\n",
              "</style>\n",
              "<table border=\"1\" class=\"dataframe\">\n",
              "  <thead>\n",
              "    <tr style=\"text-align: right;\">\n",
              "      <th></th>\n",
              "      <th>High</th>\n",
              "      <th>Low</th>\n",
              "      <th>Open</th>\n",
              "      <th>Close</th>\n",
              "      <th>Volume</th>\n",
              "      <th>Adj Close</th>\n",
              "    </tr>\n",
              "    <tr>\n",
              "      <th>Date</th>\n",
              "      <th></th>\n",
              "      <th></th>\n",
              "      <th></th>\n",
              "      <th></th>\n",
              "      <th></th>\n",
              "      <th></th>\n",
              "    </tr>\n",
              "  </thead>\n",
              "  <tbody>\n",
              "    <tr>\n",
              "      <th>2019-01-02</th>\n",
              "      <td>19.740000</td>\n",
              "      <td>18.280001</td>\n",
              "      <td>18.500000</td>\n",
              "      <td>19.450001</td>\n",
              "      <td>2580900</td>\n",
              "      <td>19.450001</td>\n",
              "    </tr>\n",
              "    <tr>\n",
              "      <th>2019-01-03</th>\n",
              "      <td>20.290001</td>\n",
              "      <td>19.120001</td>\n",
              "      <td>19.230000</td>\n",
              "      <td>19.940001</td>\n",
              "      <td>2998100</td>\n",
              "      <td>19.940001</td>\n",
              "    </tr>\n",
              "    <tr>\n",
              "      <th>2019-01-04</th>\n",
              "      <td>21.420000</td>\n",
              "      <td>20.330000</td>\n",
              "      <td>20.360001</td>\n",
              "      <td>21.180000</td>\n",
              "      <td>2910300</td>\n",
              "      <td>21.180000</td>\n",
              "    </tr>\n",
              "    <tr>\n",
              "      <th>2019-01-07</th>\n",
              "      <td>22.629999</td>\n",
              "      <td>20.760000</td>\n",
              "      <td>21.000000</td>\n",
              "      <td>22.510000</td>\n",
              "      <td>4561900</td>\n",
              "      <td>22.510000</td>\n",
              "    </tr>\n",
              "    <tr>\n",
              "      <th>2019-01-08</th>\n",
              "      <td>23.260000</td>\n",
              "      <td>22.209999</td>\n",
              "      <td>22.790001</td>\n",
              "      <td>23.190001</td>\n",
              "      <td>3036500</td>\n",
              "      <td>23.190001</td>\n",
              "    </tr>\n",
              "    <tr>\n",
              "      <th>...</th>\n",
              "      <td>...</td>\n",
              "      <td>...</td>\n",
              "      <td>...</td>\n",
              "      <td>...</td>\n",
              "      <td>...</td>\n",
              "      <td>...</td>\n",
              "    </tr>\n",
              "    <tr>\n",
              "      <th>2020-09-10</th>\n",
              "      <td>65.790001</td>\n",
              "      <td>60.930000</td>\n",
              "      <td>61.299999</td>\n",
              "      <td>62.459999</td>\n",
              "      <td>20658500</td>\n",
              "      <td>62.459999</td>\n",
              "    </tr>\n",
              "    <tr>\n",
              "      <th>2020-09-11</th>\n",
              "      <td>63.919998</td>\n",
              "      <td>57.639999</td>\n",
              "      <td>63.270000</td>\n",
              "      <td>59.189999</td>\n",
              "      <td>9485000</td>\n",
              "      <td>59.189999</td>\n",
              "    </tr>\n",
              "    <tr>\n",
              "      <th>2020-09-14</th>\n",
              "      <td>65.940002</td>\n",
              "      <td>59.410000</td>\n",
              "      <td>60.220001</td>\n",
              "      <td>65.540001</td>\n",
              "      <td>11293000</td>\n",
              "      <td>65.540001</td>\n",
              "    </tr>\n",
              "    <tr>\n",
              "      <th>2020-09-15</th>\n",
              "      <td>69.989998</td>\n",
              "      <td>63.599998</td>\n",
              "      <td>66.019997</td>\n",
              "      <td>68.230003</td>\n",
              "      <td>11630200</td>\n",
              "      <td>68.230003</td>\n",
              "    </tr>\n",
              "    <tr>\n",
              "      <th>2020-09-16</th>\n",
              "      <td>71.010002</td>\n",
              "      <td>67.309998</td>\n",
              "      <td>68.199997</td>\n",
              "      <td>67.839996</td>\n",
              "      <td>8033900</td>\n",
              "      <td>67.839996</td>\n",
              "    </tr>\n",
              "  </tbody>\n",
              "</table>\n",
              "<p>431 rows × 6 columns</p>\n",
              "</div>"
            ],
            "text/plain": [
              "                 High        Low       Open      Close    Volume  Adj Close\n",
              "Date                                                                       \n",
              "2019-01-02  19.740000  18.280001  18.500000  19.450001   2580900  19.450001\n",
              "2019-01-03  20.290001  19.120001  19.230000  19.940001   2998100  19.940001\n",
              "2019-01-04  21.420000  20.330000  20.360001  21.180000   2910300  21.180000\n",
              "2019-01-07  22.629999  20.760000  21.000000  22.510000   4561900  22.510000\n",
              "2019-01-08  23.260000  22.209999  22.790001  23.190001   3036500  23.190001\n",
              "...               ...        ...        ...        ...       ...        ...\n",
              "2020-09-10  65.790001  60.930000  61.299999  62.459999  20658500  62.459999\n",
              "2020-09-11  63.919998  57.639999  63.270000  59.189999   9485000  59.189999\n",
              "2020-09-14  65.940002  59.410000  60.220001  65.540001  11293000  65.540001\n",
              "2020-09-15  69.989998  63.599998  66.019997  68.230003  11630200  68.230003\n",
              "2020-09-16  71.010002  67.309998  68.199997  67.839996   8033900  67.839996\n",
              "\n",
              "[431 rows x 6 columns]"
            ]
          },
          "metadata": {
            "tags": []
          },
          "execution_count": 62
        }
      ]
    },
    {
      "cell_type": "code",
      "metadata": {
        "id": "S271Q-skdBZV",
        "colab_type": "code",
        "colab": {}
      },
      "source": [
        "candle = {\n",
        "    'x': penn_data.index,\n",
        "    'open': penn_data.Open,\n",
        "    'close': penn_data.Close,\n",
        "    'high': penn_data.High,\n",
        "    'low': penn_data.Low,\n",
        "    'type': 'candlestick',\n",
        "    'name': 'Microsoft',\n",
        "    'showlegend': False\n",
        "}\n",
        "\n",
        "data = [candle]\n",
        "# Config graph layout\n",
        "layout = go.Layout({\n",
        "    'title': {\n",
        "        'text': 'MSFT',\n",
        "        'font': {\n",
        "            'size': 15\n",
        "        }\n",
        "    }\n",
        "})\n"
      ],
      "execution_count": 64,
      "outputs": []
    },
    {
      "cell_type": "code",
      "metadata": {
        "id": "9JQhVVqldYXv",
        "colab_type": "code",
        "colab": {
          "base_uri": "https://localhost:8080/",
          "height": 542
        },
        "outputId": "59109cca-1f09-4761-ecb0-52f9a8bd4036"
      },
      "source": [
        "fig = go.Figure(data=data, layout=layout)\n",
        "fig.write_html(\"./MSFT-web.html\")\n",
        "fig.show()"
      ],
      "execution_count": 65,
      "outputs": [
        {
          "output_type": "display_data",
          "data": {
            "text/html": [
              "<html>\n",
              "<head><meta charset=\"utf-8\" /></head>\n",
              "<body>\n",
              "    <div>\n",
              "            <script src=\"https://cdnjs.cloudflare.com/ajax/libs/mathjax/2.7.5/MathJax.js?config=TeX-AMS-MML_SVG\"></script><script type=\"text/javascript\">if (window.MathJax) {MathJax.Hub.Config({SVG: {font: \"STIX-Web\"}});}</script>\n",
              "                <script type=\"text/javascript\">window.PlotlyConfig = {MathJaxConfig: 'local'};</script>\n",
              "        <script src=\"https://cdn.plot.ly/plotly-latest.min.js\"></script>    \n",
              "            <div id=\"ccd758a8-9fc5-4baa-8968-560170854b5b\" class=\"plotly-graph-div\" style=\"height:525px; width:100%;\"></div>\n",
              "            <script type=\"text/javascript\">\n",
              "                \n",
              "                    window.PLOTLYENV=window.PLOTLYENV || {};\n",
              "                    \n",
              "                if (document.getElementById(\"ccd758a8-9fc5-4baa-8968-560170854b5b\")) {\n",
              "                    Plotly.newPlot(\n",
              "                        'ccd758a8-9fc5-4baa-8968-560170854b5b',\n",
              "                        [{\"close\": [19.450000762939453, 19.940000534057617, 21.18000030517578, 22.510000228881836, 23.190000534057617, 23.81999969482422, 24.559999465942383, 24.860000610351562, 23.719999313354492, 23.59000015258789, 23.899999618530273, 24.350000381469727, 24.600000381469727, 24.1299991607666, 23.8799991607666, 24.190000534057617, 24.190000534057617, 24.1299991607666, 23.610000610351562, 24.260000228881836, 24.239999771118164, 24.84000015258789, 24.8799991607666, 25.40999984741211, 25.84000015258789, 25.75, 25.049999237060547, 25.18000030517578, 24.920000076293945, 24.549999237060547, 24.479999542236328, 24.40999984741211, 24.549999237060547, 24.260000228881836, 24.079999923706055, 25.139999389648438, 25.190000534057617, 25.15999984741211, 25.3799991607666, 24.850000381469727, 25.049999237060547, 23.899999618530273, 23.440000534057617, 23.219999313354492, 22.899999618530273, 22.770000457763672, 23.270000457763672, 22.610000610351562, 22.6200008392334, 21.860000610351562, 22.1200008392334, 22.219999313354492, 22.200000762939453, 21.43000030517578, 21.040000915527344, 20.190000534057617, 20.010000228881836, 19.989999771118164, 19.719999313354492, 19.790000915527344, 20.100000381469727, 20.450000762939453, 20.799999237060547, 20.989999771118164, 20.8799991607666, 21.3700008392334, 21.239999771118164, 20.690000534057617, 21.100000381469727, 21.09000015258789, 21.219999313354492, 20.920000076293945, 21.139999389648438, 21.290000915527344, 21.219999313354492, 21.280000686645508, 22.030000686645508, 22.110000610351562, 21.8700008392334, 22.110000610351562, 22.020000457763672, 21.670000076293945, 21.040000915527344, 20.040000915527344, 20.0, 19.3700008392334, 18.75, 19.020000457763672, 20.190000534057617, 20.329999923706055, 19.770000457763672, 19.90999984741211, 20.31999969482422, 21.399999618530273, 21.200000762939453, 21.399999618530273, 21.530000686645508, 21.3700008392334, 20.829999923706055, 21.110000610351562, 20.600000381469727, 20.329999923706055, 19.75, 18.850000381469727, 17.690000534057617, 18.799999237060547, 18.670000076293945, 18.860000610351562, 19.719999313354492, 20.079999923706055, 19.8700008392334, 19.84000015258789, 19.979999542236328, 19.59000015258789, 19.739999771118164, 19.809999465942383, 19.700000762939453, 19.34000015258789, 18.850000381469727, 18.459999084472656, 17.920000076293945, 18.280000686645508, 19.239999771118164, 19.260000228881836, 19.3799991607666, 19.5, 19.510000228881836, 19.639999389648438, 19.40999984741211, 19.170000076293945, 18.649999618530273, 17.860000610351562, 18.290000915527344, 18.34000015258789, 18.809999465942383, 18.450000762939453, 18.43000030517578, 17.90999984741211, 17.649999618530273, 18.260000228881836, 19.06999969482422, 18.8700008392334, 19.489999771118164, 19.670000076293945, 19.739999771118164, 19.520000457763672, 19.100000381469727, 18.93000030517578, 18.809999465942383, 18.3799991607666, 17.700000762939453, 18.510000228881836, 18.469999313354492, 18.389999389648438, 18.200000762939453, 17.040000915527344, 16.780000686645508, 17.469999313354492, 18.280000686645508, 18.5, 18.239999771118164, 18.469999313354492, 18.020000457763672, 18.420000076293945, 17.920000076293945, 18.309999465942383, 18.81999969482422, 19.170000076293945, 18.479999542236328, 19.079999923706055, 19.600000381469727, 19.739999771118164, 19.989999771118164, 20.200000762939453, 20.639999389648438, 20.56999969482422, 20.920000076293945, 20.8700008392334, 20.440000534057617, 20.059999465942383, 19.760000228881836, 19.760000228881836, 19.670000076293945, 19.190000534057617, 19.1299991607666, 19.0, 18.25, 18.6299991607666, 18.280000686645508, 18.610000610351562, 18.6200008392334, 18.809999465942383, 18.809999465942383, 18.540000915527344, 18.510000228881836, 18.520000457763672, 19.100000381469727, 19.149999618530273, 19.540000915527344, 19.850000381469727, 20.56999969482422, 20.43000030517578, 20.68000030517578, 20.770000457763672, 21.299999237060547, 21.030000686645508, 21.149999618530273, 21.780000686645508, 22.059999465942383, 21.850000381469727, 21.31999969482422, 21.450000762939453, 21.799999237060547, 22.040000915527344, 21.729999542236328, 21.889999389648438, 22.43000030517578, 22.469999313354492, 22.170000076293945, 21.969999313354492, 21.719999313354492, 21.950000762939453, 22.229999542236328, 22.170000076293945, 21.920000076293945, 22.040000915527344, 22.200000762939453, 22.829999923706055, 22.84000015258789, 23.3799991607666, 23.030000686645508, 23.350000381469727, 23.399999618530273, 22.969999313354492, 22.239999771118164, 23.1299991607666, 22.989999771118164, 24.100000381469727, 24.25, 24.93000030517578, 24.969999313354492, 25.18000030517578, 25.729999542236328, 26.06999969482422, 25.81999969482422, 25.149999618530273, 25.670000076293945, 25.530000686645508, 25.8799991607666, 25.690000534057617, 25.5, 25.559999465942383, 26.139999389648438, 25.93000030517578, 26.209999084472656, 26.459999084472656, 26.850000381469727, 26.860000610351562, 26.329999923706055, 26.530000686645508, 26.979999542236328, 26.34000015258789, 26.270000457763672, 26.0, 25.18000030517578, 25.260000228881836, 25.899999618530273, 25.959999084472656, 25.420000076293945, 26.209999084472656, 29.020000457763672, 30.8700008392334, 29.829999923706055, 29.90999984741211, 32.119998931884766, 32.27000045776367, 34.900001525878906, 34.31999969482422, 36.310001373291016, 36.810001373291016, 37.2599983215332, 38.279998779296875, 36.869998931884766, 36.91999816894531, 37.099998474121094, 38.16999816894531, 37.810001373291016, 35.939998626708984, 32.06999969482422, 29.65999984741211, 28.649999618530273, 29.56999969482422, 28.219999313354492, 26.049999237060547, 26.049999237060547, 22.850000381469727, 23.90999984741211, 20.43000030517578, 23.030000686645508, 19.809999465942383, 15.430000305175781, 15.470000267028809, 8.539999961853027, 7.329999923706055, 4.519999980926514, 6.090000152587891, 7.889999866485596, 9.800000190734863, 13.210000038146973, 14.5600004196167, 13.260000228881836, 11.770000457763672, 11.65999984741211, 12.649999618530273, 10.140000343322754, 9.210000038146973, 9.770000457763672, 11.029999732971191, 11.029999732971191, 12.890000343322754, 13.90999984741211, 14.079999923706055, 15.0600004196167, 13.90999984741211, 13.380000114440918, 14.069999694824219, 13.869999885559082, 13.569999694824219, 13.279999732971191, 13.579999923706055, 14.100000381469727, 15.420000076293945, 15.90999984741211, 18.610000610351562, 17.81999969482422, 15.539999961853027, 15.609999656677246, 15.729999542236328, 15.760000228881836, 18.18000030517578, 18.43000030517578, 18.65999984741211, 17.75, 16.540000915527344, 17.719999313354492, 19.350000381469727, 22.25, 23.729999542236328, 26.809999465942383, 29.649999618530273, 30.3799991607666, 29.290000915527344, 32.38999938964844, 31.579999923706055, 32.810001373291016, 33.150001525878906, 31.239999771118164, 32.709999084472656, 37.369998931884766, 36.040000915527344, 34.29999923706055, 32.4900016784668, 31.399999618530273, 27.860000610351562, 29.649999618530273, 31.549999237060547, 31.709999084472656, 32.459999084472656, 31.729999542236328, 32.13999938964844, 31.43000030517578, 36.81999969482422, 33.380001068115234, 31.700000762939453, 30.649999618530273, 29.780000686645508, 30.540000915527344, 31.90999984741211, 30.93000030517578, 29.780000686645508, 28.600000381469727, 28.8700008392334, 29.850000381469727, 29.43000030517578, 28.649999618530273, 29.139999389648438, 34.40999984741211, 34.95000076293945, 33.70000076293945, 33.56999969482422, 36.0099983215332, 35.93000030517578, 33.84000015258789, 34.779998779296875, 32.86000061035156, 33.20000076293945, 37.41999816894531, 36.810001373291016, 33.849998474121094, 36.099998474121094, 37.41999816894531, 38.38999938964844, 43.86000061035156, 49.0, 45.380001068115234, 46.599998474121094, 49.7599983215332, 53.349998474121094, 52.47999954223633, 53.369998931884766, 55.380001068115234, 54.72999954223633, 56.58000183105469, 55.599998474121094, 55.7400016784668, 56.18000030517578, 55.18000030517578, 55.13999938964844, 53.720001220703125, 51.099998474121094, 57.93000030517578, 57.529998779296875, 53.91999816894531, 54.150001525878906, 55.310001373291016, 58.150001525878906, 62.459999084472656, 59.189998626708984, 65.54000091552734, 68.2300033569336, 67.83999633789062], \"high\": [19.739999771118164, 20.290000915527344, 21.420000076293945, 22.6299991607666, 23.260000228881836, 24.09000015258789, 24.68000030517578, 24.969999313354492, 24.75, 24.059999465942383, 24.149999618530273, 24.420000076293945, 24.739999771118164, 24.450000762939453, 24.440000534057617, 24.350000381469727, 24.649999618530273, 24.3700008392334, 24.329999923706055, 24.290000915527344, 24.639999389648438, 24.899999618530273, 25.280000686645508, 25.510000228881836, 26.049999237060547, 26.450000762939453, 25.780000686645508, 25.309999465942383, 25.610000610351562, 25.040000915527344, 24.829999923706055, 25.010000228881836, 24.709999084472656, 24.989999771118164, 24.540000915527344, 25.18000030517578, 25.530000686645508, 25.5, 25.420000076293945, 25.40999984741211, 25.209999084472656, 25.149999618530273, 23.969999313354492, 23.799999237060547, 23.299999237060547, 22.899999618530273, 23.399999618530273, 23.3700008392334, 23.040000915527344, 22.700000762939453, 22.6299991607666, 22.3700008392334, 22.59000015258789, 22.110000610351562, 21.530000686645508, 20.8799991607666, 20.329999923706055, 20.3799991607666, 20.040000915527344, 20.329999923706055, 20.360000610351562, 20.84000015258789, 21.18000030517578, 21.3799991607666, 21.15999984741211, 21.530000686645508, 21.489999771118164, 21.110000610351562, 21.229999542236328, 21.3799991607666, 21.489999771118164, 21.549999237060547, 21.25, 21.520000457763672, 21.719999313354492, 21.420000076293945, 22.239999771118164, 22.3700008392334, 22.25, 22.18000030517578, 22.270000457763672, 22.010000228881836, 21.979999542236328, 21.65999984741211, 20.3700008392334, 19.84000015258789, 19.34000015258789, 19.110000610351562, 20.34000015258789, 20.6299991607666, 19.979999542236328, 20.200000762939453, 20.450000762939453, 21.420000076293945, 21.639999389648438, 21.520000457763672, 21.90999984741211, 21.6200008392334, 21.09000015258789, 21.469999313354492, 21.350000381469727, 20.510000228881836, 20.84000015258789, 19.579999923706055, 18.860000610351562, 18.809999465942383, 19.049999237060547, 18.950000762939453, 19.770000457763672, 20.18000030517578, 20.420000076293945, 20.020000457763672, 20.260000228881836, 20.020000457763672, 19.8799991607666, 20.34000015258789, 19.84000015258789, 20.1299991607666, 19.260000228881836, 18.940000534057617, 18.479999542236328, 18.520000457763672, 19.299999237060547, 19.56999969482422, 19.780000686645508, 19.690000534057617, 19.6299991607666, 19.75, 19.649999618530273, 19.540000915527344, 19.329999923706055, 18.649999618530273, 18.329999923706055, 18.600000381469727, 18.989999771118164, 18.68000030517578, 18.829999923706055, 18.6200008392334, 18.020000457763672, 18.270000457763672, 19.209999084472656, 19.299999237060547, 19.649999618530273, 19.729999542236328, 19.739999771118164, 19.950000762939453, 21.15999984741211, 19.700000762939453, 19.010000228881836, 19.149999618530273, 18.18000030517578, 18.530000686645508, 18.600000381469727, 18.6299991607666, 18.8700008392334, 17.920000076293945, 17.09000015258789, 17.68000030517578, 18.5, 18.639999389648438, 18.790000915527344, 18.540000915527344, 18.43000030517578, 18.440000534057617, 18.549999237060547, 18.459999084472656, 18.93000030517578, 19.280000686645508, 19.049999237060547, 19.15999984741211, 19.670000076293945, 19.959999084472656, 20.110000610351562, 20.420000076293945, 20.8799991607666, 20.889999389648438, 21.25, 21.100000381469727, 20.84000015258789, 20.43000030517578, 20.280000686645508, 20.040000915527344, 19.84000015258789, 20.0, 19.25, 19.1200008392334, 18.959999084472656, 18.739999771118164, 19.209999084472656, 18.709999084472656, 18.700000762939453, 18.829999923706055, 19.06999969482422, 18.790000915527344, 18.729999542236328, 18.860000610351562, 19.290000915527344, 19.219999313354492, 19.670000076293945, 19.969999313354492, 20.670000076293945, 20.780000686645508, 20.850000381469727, 20.860000610351562, 21.31999969482422, 21.5, 21.209999084472656, 21.8700008392334, 22.110000610351562, 22.100000381469727, 21.579999923706055, 21.459999084472656, 21.90999984741211, 22.34000015258789, 22.15999984741211, 22.239999771118164, 22.459999084472656, 22.540000915527344, 22.479999542236328, 22.1200008392334, 22.25, 22.1200008392334, 22.31999969482422, 22.479999542236328, 22.329999923706055, 22.18000030517578, 22.3799991607666, 22.950000762939453, 23.010000228881836, 23.40999984741211, 23.43000030517578, 23.3799991607666, 23.469999313354492, 23.56999969482422, 23.15999984741211, 23.239999771118164, 23.149999618530273, 24.1299991607666, 24.360000610351562, 24.989999771118164, 25.229999542236328, 25.510000228881836, 25.780000686645508, 26.139999389648438, 26.260000228881836, 25.940000534057617, 25.719999313354492, 25.700000762939453, 25.969999313354492, 26.0, 25.780000686645508, 25.760000228881836, 26.149999618530273, 25.969999313354492, 26.329999923706055, 26.479999542236328, 27.079999923706055, 27.030000686645508, 26.860000610351562, 26.690000534057617, 27.139999389648438, 27.5, 26.93000030517578, 26.469999313354492, 26.049999237060547, 25.889999389648438, 25.90999984741211, 26.389999389648438, 25.81999969482422, 26.34000015258789, 30.440000534057617, 31.989999771118164, 30.950000762939453, 30.729999542236328, 32.7599983215332, 32.79999923706055, 35.66999816894531, 35.43000030517578, 36.59000015258789, 37.18000030517578, 37.70000076293945, 38.70000076293945, 38.72999954223633, 37.09000015258789, 37.68000030517578, 39.18000030517578, 38.11000061035156, 37.0, 36.65999984741211, 33.189998626708984, 30.360000610351562, 30.3799991607666, 29.799999237060547, 29.079999923706055, 26.959999084472656, 25.559999465942383, 24.5, 22.440000534057617, 23.260000228881836, 22.149999618530273, 17.459999084472656, 17.860000610351562, 12.460000038146973, 10.069999694824219, 6.920000076293945, 7.510000228881836, 11.850000381469727, 10.079999923706055, 14.390000343322754, 15.970000267028809, 15.789999961853027, 12.75, 11.6899995803833, 13.5, 12.369999885559082, 10.739999771118164, 10.1899995803833, 11.75, 13.170000076293945, 13.5, 15.079999923706055, 14.569999694824219, 15.890000343322754, 14.649999618530273, 14.199999809265137, 14.84000015258789, 14.75, 14.050000190734863, 14.369999885559082, 14.050000190734863, 14.210000038146973, 16.530000686645508, 16.75, 18.739999771118164, 18.649999618530273, 17.190000534057617, 15.819999694824219, 16.5, 16.290000915527344, 18.68000030517578, 18.940000534057617, 19.75, 19.31999969482422, 18.1299991607666, 18.09000015258789, 19.969999313354492, 22.799999237060547, 25.790000915527344, 27.299999237060547, 29.68000030517578, 30.469999313354492, 32.869998931884766, 32.650001525878906, 34.779998779296875, 33.220001220703125, 33.83000183105469, 33.599998474121094, 33.0, 37.91999816894531, 40.13999938964844, 36.75, 34.27000045776367, 32.95000076293945, 30.940000534057617, 30.579999923706055, 31.850000381469727, 34.65999984741211, 33.290000915527344, 33.040000915527344, 33.970001220703125, 32.709999084472656, 37.43000030517578, 36.599998474121094, 33.220001220703125, 32.75, 31.010000228881836, 31.399999618530273, 33.22999954223633, 33.209999084472656, 31.93000030517578, 29.530000686645508, 29.15999984741211, 30.40999984741211, 30.25, 31.1200008392334, 29.520000457763672, 34.68000030517578, 35.349998474121094, 35.63999938964844, 34.97999954223633, 36.63999938964844, 36.77000045776367, 35.529998779296875, 35.029998779296875, 34.880001068115234, 34.29999923706055, 38.25, 37.349998474121094, 37.2400016784668, 36.25, 37.619998931884766, 39.400001525878906, 44.63999938964844, 49.08000183105469, 51.0, 49.68000030517578, 51.16999816894531, 54.720001220703125, 53.16999816894531, 54.04999923706055, 56.040000915527344, 56.959999084472656, 57.09000015258789, 57.93000030517578, 56.63999938964844, 57.43000030517578, 56.70000076293945, 55.58000183105469, 54.83000183105469, 54.279998779296875, 59.099998474121094, 58.0, 57.439998626708984, 55.880001068115234, 57.59000015258789, 58.619998931884766, 65.79000091552734, 63.91999816894531, 65.94000244140625, 69.98999786376953, 71.01000213623047], \"low\": [18.280000686645508, 19.1200008392334, 20.329999923706055, 20.760000228881836, 22.209999084472656, 23.170000076293945, 23.59000015258789, 24.139999389648438, 23.700000762939453, 23.389999389648438, 23.489999771118164, 23.690000534057617, 24.239999771118164, 23.68000030517578, 23.75, 23.610000610351562, 24.06999969482422, 23.700000762939453, 23.489999771118164, 23.549999237060547, 24.110000610351562, 24.280000686645508, 24.770000457763672, 24.93000030517578, 25.239999771118164, 24.559999465942383, 24.790000915527344, 24.40999984741211, 24.780000686645508, 24.489999771118164, 23.8799991607666, 24.31999969482422, 24.299999237060547, 24.1200008392334, 23.969999313354492, 24.1299991607666, 25.0, 25.010000228881836, 24.770000457763672, 24.790000915527344, 24.729999542236328, 23.719999313354492, 23.15999984741211, 23.18000030517578, 22.579999923706055, 22.520000457763672, 22.649999618530273, 22.579999923706055, 22.510000228881836, 21.790000915527344, 21.75, 21.860000610351562, 22.1200008392334, 21.260000228881836, 20.979999542236328, 20.190000534057617, 19.84000015258789, 19.760000228881836, 19.479999542236328, 19.450000762939453, 19.8700008392334, 20.25, 20.450000762939453, 20.889999389648438, 20.809999465942383, 20.940000534057617, 20.979999542236328, 20.56999969482422, 20.729999542236328, 21.030000686645508, 21.09000015258789, 20.760000228881836, 20.850000381469727, 21.010000228881836, 21.100000381469727, 21.06999969482422, 21.260000228881836, 21.799999237060547, 21.719999313354492, 21.479999542236328, 21.850000381469727, 21.270000457763672, 20.729999542236328, 19.770000457763672, 19.649999618530273, 19.1200008392334, 18.5, 18.399999618530273, 19.270000457763672, 19.639999389648438, 19.34000015258789, 19.610000610351562, 19.450000762939453, 20.530000686645508, 20.950000762939453, 20.639999389648438, 21.459999084472656, 21.149999618530273, 20.520000457763672, 20.860000610351562, 20.579999923706055, 20.030000686645508, 19.530000686645508, 18.739999771118164, 17.459999084472656, 17.760000228881836, 18.34000015258789, 18.3799991607666, 18.899999618530273, 19.739999771118164, 19.790000915527344, 19.56999969482422, 19.81999969482422, 19.579999923706055, 19.280000686645508, 19.65999984741211, 19.440000534057617, 19.239999771118164, 18.809999465942383, 18.3700008392334, 17.75, 17.93000030517578, 18.219999313354492, 18.889999389648438, 19.25, 19.1200008392334, 19.239999771118164, 19.309999465942383, 19.31999969482422, 19.170000076293945, 18.6299991607666, 17.639999389648438, 17.770000457763672, 18.229999542236328, 18.399999618530273, 18.15999984741211, 18.25, 17.59000015258789, 17.5, 17.690000534057617, 18.100000381469727, 18.809999465942383, 18.940000534057617, 18.530000686645508, 18.989999771118164, 19.200000762939453, 18.610000610351562, 18.780000686645508, 18.270000457763672, 18.06999969482422, 17.530000686645508, 17.709999084472656, 18.110000610351562, 18.290000915527344, 18.170000076293945, 16.8799991607666, 16.719999313354492, 16.809999465942383, 17.93000030517578, 18.0, 18.200000762939453, 18.110000610351562, 17.889999389648438, 17.860000610351562, 17.75, 17.799999237060547, 18.450000762939453, 18.81999969482422, 18.280000686645508, 18.700000762939453, 18.739999771118164, 19.3799991607666, 19.719999313354492, 19.760000228881836, 20.25, 20.420000076293945, 20.65999984741211, 20.56999969482422, 20.40999984741211, 19.729999542236328, 19.65999984741211, 19.649999618530273, 19.469999313354492, 19.18000030517578, 18.899999618530273, 18.649999618530273, 18.100000381469727, 18.309999465942383, 18.270000457763672, 18.010000228881836, 18.09000015258789, 18.360000610351562, 18.450000762939453, 18.40999984741211, 18.399999618530273, 18.459999084472656, 18.709999084472656, 18.809999465942383, 19.0, 19.459999084472656, 19.90999984741211, 20.229999542236328, 20.43000030517578, 20.530000686645508, 20.549999237060547, 20.780000686645508, 20.700000762939453, 21.360000610351562, 21.559999465942383, 21.43000030517578, 21.040000915527344, 20.5, 21.540000915527344, 21.899999618530273, 21.729999542236328, 21.739999771118164, 21.639999389648438, 22.200000762939453, 22.010000228881836, 21.739999771118164, 21.719999313354492, 21.719999313354492, 21.81999969482422, 22.170000076293945, 21.829999923706055, 21.809999465942383, 22.059999465942383, 22.209999084472656, 22.68000030517578, 22.889999389648438, 23.020000457763672, 22.81999969482422, 22.84000015258789, 22.920000076293945, 22.149999618530273, 22.450000762939453, 22.649999618530273, 23.010000228881836, 24.110000610351562, 24.209999084472656, 24.770000457763672, 25.15999984741211, 25.110000610351562, 25.799999237060547, 25.780000686645508, 25.079999923706055, 25.25, 25.479999542236328, 25.440000534057617, 25.610000610351562, 25.280000686645508, 25.329999923706055, 25.6200008392334, 25.420000076293945, 25.520000457763672, 26.049999237060547, 26.420000076293945, 26.770000457763672, 26.270000457763672, 26.100000381469727, 26.260000228881836, 26.25, 26.110000610351562, 25.809999465942383, 25.1200008392334, 25.020000457763672, 24.739999771118164, 25.700000762939453, 24.979999542236328, 25.3799991607666, 27.6200008392334, 29.290000915527344, 29.799999237060547, 29.469999313354492, 30.510000228881836, 31.600000381469727, 32.0, 33.650001525878906, 34.349998474121094, 36.099998474121094, 36.40999984741211, 36.40999984741211, 36.77000045776367, 36.41999816894531, 37.0, 36.63999938964844, 36.95000076293945, 35.20000076293945, 32.040000915527344, 29.420000076293945, 27.459999084472656, 27.950000762939453, 26.709999084472656, 25.889999389648438, 24.420000076293945, 22.559999465942383, 22.010000228881836, 20.389999389648438, 20.170000076293945, 19.399999618530273, 15.0600004196167, 13.649999618530273, 8.5, 7.0, 3.75, 4.0, 7.159999847412109, 7.46999979019165, 12.119999885559082, 11.800000190734863, 12.770000457763672, 11.0, 9.869999885559082, 11.779999732971191, 10.010000228881836, 9.0, 8.6899995803833, 10.319999694824219, 10.779999732971191, 11.220000267028809, 13.100000381469727, 12.800000190734863, 14.25, 13.550000190734863, 12.84000015258789, 13.729999542236328, 13.449999809265137, 12.960000038146973, 13.260000228881836, 13.460000038146973, 13.369999885559082, 14.369999885559082, 14.859999656677246, 16.6299991607666, 17.010000228881836, 15.149999618530273, 14.3100004196167, 15.079999923706055, 15.220000267028809, 15.069999694824219, 17.420000076293945, 17.149999618530273, 17.610000610351562, 15.899999618530273, 16.0, 17.479999542236328, 20.360000610351562, 22.030000686645508, 24.770000457763672, 26.709999084472656, 28.110000610351562, 28.940000534057617, 28.309999465942383, 31.1299991607666, 30.8700008392334, 31.760000228881836, 30.649999618530273, 31.1200008392334, 32.630001068115234, 35.22999954223633, 33.72999954223633, 32.29999923706055, 29.670000076293945, 27.520000457763672, 28.579999923706055, 27.81999969482422, 31.15999984741211, 30.719999313354492, 31.600000381469727, 31.3700008392334, 30.360000610351562, 32.59000015258789, 32.43000030517578, 30.829999923706055, 30.25, 28.280000686645508, 29.059999465942383, 31.510000228881836, 30.450000762939453, 29.34000015258789, 28.309999465942383, 26.959999084472656, 28.229999542236328, 28.68000030517578, 28.520000457763672, 27.829999923706055, 31.190000534057617, 32.650001525878906, 33.2599983215332, 32.709999084472656, 33.599998474121094, 35.220001220703125, 32.81999969482422, 32.52000045776367, 31.860000610351562, 32.54999923706055, 33.75, 35.560001373291016, 33.40999984741211, 33.27000045776367, 35.75, 35.91999816894531, 37.29999923706055, 44.5, 45.0099983215332, 45.650001525878906, 46.95000076293945, 51.29999923706055, 50.939998626708984, 50.869998931884766, 52.79999923706055, 53.869998931884766, 53.310001373291016, 55.18000030517578, 54.34000015258789, 55.20000076293945, 54.970001220703125, 52.70000076293945, 53.5, 50.93000030517578, 52.58000183105469, 54.90999984741211, 52.880001068115234, 51.189998626708984, 52.900001525878906, 54.52000045776367, 60.93000030517578, 57.63999938964844, 59.40999984741211, 63.599998474121094, 67.30999755859375], \"name\": \"Microsoft\", \"open\": [18.5, 19.229999542236328, 20.360000610351562, 21.0, 22.790000915527344, 23.399999618530273, 23.739999771118164, 24.479999542236328, 24.56999969482422, 23.959999084472656, 23.5, 24.309999465942383, 24.350000381469727, 24.3700008392334, 24.280000686645508, 23.84000015258789, 24.600000381469727, 23.84000015258789, 24.1200008392334, 23.860000610351562, 24.299999237060547, 24.479999542236328, 25.0, 24.969999313354492, 25.3799991607666, 25.84000015258789, 25.510000228881836, 24.93000030517578, 25.43000030517578, 24.959999084472656, 24.450000762939453, 24.600000381469727, 24.399999618530273, 24.600000381469727, 24.270000457763672, 24.350000381469727, 25.3700008392334, 25.09000015258789, 25.06999969482422, 25.34000015258789, 25.110000610351562, 25.06999969482422, 23.969999313354492, 23.440000534057617, 23.149999618530273, 22.6299991607666, 22.84000015258789, 23.3700008392334, 22.760000228881836, 22.700000762939453, 21.920000076293945, 22.170000076293945, 22.290000915527344, 22.110000610351562, 21.260000228881836, 20.780000686645508, 20.190000534057617, 19.829999923706055, 20.040000915527344, 19.770000457763672, 20.010000228881836, 20.3799991607666, 20.549999237060547, 21.040000915527344, 21.0, 20.940000534057617, 21.260000228881836, 21.110000610351562, 20.729999542236328, 21.15999984741211, 21.1200008392334, 21.420000076293945, 20.969999313354492, 21.280000686645508, 21.329999923706055, 21.190000534057617, 21.260000228881836, 22.030000686645508, 22.190000534057617, 21.959999084472656, 22.100000381469727, 21.8799991607666, 21.979999542236328, 21.5, 20.040000915527344, 19.799999237060547, 19.31999969482422, 18.6299991607666, 19.739999771118164, 20.040000915527344, 19.799999237060547, 19.809999465942383, 19.709999084472656, 20.799999237060547, 21.149999618530273, 20.920000076293945, 21.459999084472656, 21.309999465942383, 21.09000015258789, 21.1200008392334, 21.209999084472656, 20.40999984741211, 20.43000030517578, 19.510000228881836, 18.6200008392334, 17.8700008392334, 18.860000610351562, 18.6299991607666, 18.899999618530273, 19.799999237060547, 20.420000076293945, 19.68000030517578, 19.8799991607666, 20.010000228881836, 19.559999465942383, 19.850000381469727, 19.84000015258789, 20.049999237060547, 19.200000762939453, 18.809999465942383, 18.479999542236328, 17.989999771118164, 18.360000610351562, 19.190000534057617, 19.459999084472656, 19.350000381469727, 19.6299991607666, 19.360000610351562, 19.559999465942383, 19.299999237060547, 19.309999465942383, 18.6200008392334, 17.889999389648438, 18.329999923706055, 18.399999618530273, 18.68000030517578, 18.290000915527344, 18.43000030517578, 17.860000610351562, 17.799999237060547, 18.290000915527344, 19.229999542236328, 19.020000457763672, 18.6200008392334, 19.510000228881836, 19.8799991607666, 21.0, 19.700000762939453, 18.5, 18.899999618530273, 18.18000030517578, 17.729999542236328, 18.40999984741211, 18.6200008392334, 18.40999984741211, 17.75, 17.049999237060547, 16.809999465942383, 17.93000030517578, 18.219999313354492, 18.600000381469727, 18.299999237060547, 18.3700008392334, 18.15999984741211, 18.540000915527344, 17.799999237060547, 18.579999923706055, 19.0, 19.049999237060547, 18.700000762939453, 18.739999771118164, 19.65999984741211, 19.770000457763672, 20.0, 20.440000534057617, 20.690000534057617, 20.75, 20.709999084472656, 20.84000015258789, 20.40999984741211, 20.100000381469727, 19.8799991607666, 19.559999465942383, 19.770000457763672, 19.010000228881836, 19.010000228881836, 18.6200008392334, 18.43000030517578, 18.690000534057617, 18.100000381469727, 18.479999542236328, 18.610000610351562, 18.709999084472656, 18.610000610351562, 18.700000762939453, 18.6299991607666, 18.829999923706055, 19.030000686645508, 19.100000381469727, 19.56999969482422, 20.149999618530273, 20.469999313354492, 20.690000534057617, 20.709999084472656, 20.920000076293945, 21.280000686645508, 20.850000381469727, 21.3799991607666, 21.670000076293945, 22.09000015258789, 21.040000915527344, 20.780000686645508, 21.75, 22.0, 22.030000686645508, 22.020000457763672, 21.899999618530273, 22.309999465942383, 22.479999542236328, 21.979999542236328, 22.020000457763672, 21.950000762939453, 21.920000076293945, 22.420000076293945, 21.940000534057617, 22.059999465942383, 22.149999618530273, 22.290000915527344, 22.81999969482422, 22.959999084472656, 23.229999542236328, 23.030000686645508, 22.950000762939453, 23.56999969482422, 23.15999984741211, 22.489999771118164, 23.040000915527344, 23.139999389648438, 24.270000457763672, 24.290000915527344, 24.899999618530273, 25.25, 25.200000762939453, 25.84000015258789, 26.110000610351562, 25.84000015258789, 25.34000015258789, 25.700000762939453, 25.6200008392334, 26.0, 25.729999542236328, 25.3700008392334, 25.969999313354492, 25.639999389648438, 25.579999923706055, 26.1299991607666, 26.43000030517578, 27.0, 26.799999237060547, 26.40999984741211, 26.270000457763672, 26.809999465942383, 26.649999618530273, 26.31999969482422, 25.860000610351562, 25.329999923706055, 25.059999465942383, 25.920000076293945, 25.25, 25.690000534057617, 27.649999618530273, 29.530000686645508, 30.920000076293945, 30.149999618530273, 31.690000534057617, 32.779998779296875, 32.08000183105469, 35.369998931884766, 34.45000076293945, 36.720001220703125, 37.08000183105469, 37.08000183105469, 38.650001525878906, 36.95000076293945, 37.36000061035156, 37.13999938964844, 38.029998779296875, 36.04999923706055, 36.38999938964844, 33.040000915527344, 29.0, 28.110000610351562, 29.700000762939453, 28.479999542236328, 26.520000457763672, 25.110000610351562, 22.260000228881836, 21.309999465942383, 21.540000915527344, 22.06999969482422, 16.799999237060547, 17.40999984741211, 12.399999618530273, 9.100000381469727, 6.920000076293945, 4.760000228881836, 7.170000076293945, 9.100000381469727, 12.380000114440918, 14.829999923706055, 15.170000076293945, 12.699999809265137, 11.260000228881836, 12.029999732971191, 11.550000190734863, 9.890000343322754, 9.34000015258789, 11.029999732971191, 12.819999694824219, 11.699999809265137, 14.399999618530273, 14.15999984741211, 14.520000457763672, 13.949999809265137, 14.020000457763672, 14.699999809265137, 13.5, 13.5, 14.199999809265137, 13.579999923706055, 13.699999809265137, 14.40999984741211, 16.530000686645508, 16.940000534057617, 17.84000015258789, 16.649999618530273, 14.819999694824219, 16.290000915527344, 15.850000381469727, 15.479999542236328, 18.770000457763672, 17.350000381469727, 18.829999923706055, 17.850000381469727, 16.020000457763672, 17.56999969482422, 21.239999771118164, 22.15999984741211, 25.6200008392334, 27.09000015258789, 29.299999237060547, 32.599998474121094, 30.0, 32.0, 31.219999313354492, 32.70000076293945, 33.400001525878906, 31.950000762939453, 33.20000076293945, 39.7599983215332, 34.75, 33.0099983215332, 32.220001220703125, 28.1299991607666, 30.440000534057617, 28.15999984741211, 33.900001525878906, 31.5, 31.8700008392334, 33.72999954223633, 32.470001220703125, 33.06999969482422, 36.099998474121094, 32.40999984741211, 31.75, 29.170000076293945, 29.299999237060547, 32.18000030517578, 33.040000915527344, 31.549999237060547, 29.049999237060547, 28.690000534057617, 29.290000915527344, 29.479999542236328, 29.799999237060547, 28.049999237060547, 31.190000534057617, 33.34000015258789, 35.029998779296875, 34.0, 33.599998474121094, 35.79999923706055, 35.380001068115234, 33.439998626708984, 34.58000183105469, 32.66999816894531, 33.869998931884766, 36.15999984741211, 36.880001068115234, 34.27000045776367, 35.88999938964844, 38.0, 38.599998474121094, 44.900001525878906, 48.2400016784668, 46.54999923706055, 47.529998779296875, 53.52000045776367, 52.56999969482422, 52.810001373291016, 53.7400016784668, 55.060001373291016, 53.709999084472656, 56.540000915527344, 56.31999969482422, 56.16999816894531, 56.40999984741211, 54.310001373291016, 53.9900016784668, 53.91999816894531, 53.310001373291016, 57.40999984741211, 56.86000061035156, 54.29999923706055, 53.09000015258789, 56.52000045776367, 61.29999923706055, 63.27000045776367, 60.220001220703125, 66.0199966430664, 68.19999694824219], \"showlegend\": false, \"type\": \"candlestick\", \"x\": [\"2019-01-02T00:00:00\", \"2019-01-03T00:00:00\", \"2019-01-04T00:00:00\", \"2019-01-07T00:00:00\", \"2019-01-08T00:00:00\", \"2019-01-09T00:00:00\", \"2019-01-10T00:00:00\", \"2019-01-11T00:00:00\", \"2019-01-14T00:00:00\", \"2019-01-15T00:00:00\", \"2019-01-16T00:00:00\", \"2019-01-17T00:00:00\", \"2019-01-18T00:00:00\", \"2019-01-22T00:00:00\", \"2019-01-23T00:00:00\", \"2019-01-24T00:00:00\", \"2019-01-25T00:00:00\", \"2019-01-28T00:00:00\", \"2019-01-29T00:00:00\", \"2019-01-30T00:00:00\", \"2019-01-31T00:00:00\", \"2019-02-01T00:00:00\", \"2019-02-04T00:00:00\", \"2019-02-05T00:00:00\", \"2019-02-06T00:00:00\", \"2019-02-07T00:00:00\", \"2019-02-08T00:00:00\", \"2019-02-11T00:00:00\", \"2019-02-12T00:00:00\", \"2019-02-13T00:00:00\", \"2019-02-14T00:00:00\", \"2019-02-15T00:00:00\", \"2019-02-19T00:00:00\", \"2019-02-20T00:00:00\", \"2019-02-21T00:00:00\", \"2019-02-22T00:00:00\", \"2019-02-25T00:00:00\", \"2019-02-26T00:00:00\", \"2019-02-27T00:00:00\", \"2019-02-28T00:00:00\", \"2019-03-01T00:00:00\", \"2019-03-04T00:00:00\", \"2019-03-05T00:00:00\", \"2019-03-06T00:00:00\", \"2019-03-07T00:00:00\", \"2019-03-08T00:00:00\", \"2019-03-11T00:00:00\", \"2019-03-12T00:00:00\", \"2019-03-13T00:00:00\", \"2019-03-14T00:00:00\", \"2019-03-15T00:00:00\", \"2019-03-18T00:00:00\", \"2019-03-19T00:00:00\", \"2019-03-20T00:00:00\", \"2019-03-21T00:00:00\", \"2019-03-22T00:00:00\", \"2019-03-25T00:00:00\", \"2019-03-26T00:00:00\", \"2019-03-27T00:00:00\", \"2019-03-28T00:00:00\", \"2019-03-29T00:00:00\", \"2019-04-01T00:00:00\", \"2019-04-02T00:00:00\", \"2019-04-03T00:00:00\", \"2019-04-04T00:00:00\", \"2019-04-05T00:00:00\", \"2019-04-08T00:00:00\", \"2019-04-09T00:00:00\", \"2019-04-10T00:00:00\", \"2019-04-11T00:00:00\", \"2019-04-12T00:00:00\", \"2019-04-15T00:00:00\", \"2019-04-16T00:00:00\", \"2019-04-17T00:00:00\", \"2019-04-18T00:00:00\", \"2019-04-22T00:00:00\", \"2019-04-23T00:00:00\", \"2019-04-24T00:00:00\", \"2019-04-25T00:00:00\", \"2019-04-26T00:00:00\", \"2019-04-29T00:00:00\", \"2019-04-30T00:00:00\", \"2019-05-01T00:00:00\", \"2019-05-02T00:00:00\", \"2019-05-03T00:00:00\", \"2019-05-06T00:00:00\", \"2019-05-07T00:00:00\", \"2019-05-08T00:00:00\", \"2019-05-09T00:00:00\", \"2019-05-10T00:00:00\", \"2019-05-13T00:00:00\", \"2019-05-14T00:00:00\", \"2019-05-15T00:00:00\", \"2019-05-16T00:00:00\", \"2019-05-17T00:00:00\", \"2019-05-20T00:00:00\", \"2019-05-21T00:00:00\", \"2019-05-22T00:00:00\", \"2019-05-23T00:00:00\", \"2019-05-24T00:00:00\", \"2019-05-28T00:00:00\", \"2019-05-29T00:00:00\", \"2019-05-30T00:00:00\", \"2019-05-31T00:00:00\", \"2019-06-03T00:00:00\", \"2019-06-04T00:00:00\", \"2019-06-05T00:00:00\", \"2019-06-06T00:00:00\", \"2019-06-07T00:00:00\", \"2019-06-10T00:00:00\", \"2019-06-11T00:00:00\", \"2019-06-12T00:00:00\", \"2019-06-13T00:00:00\", \"2019-06-14T00:00:00\", \"2019-06-17T00:00:00\", \"2019-06-18T00:00:00\", \"2019-06-19T00:00:00\", \"2019-06-20T00:00:00\", \"2019-06-21T00:00:00\", \"2019-06-24T00:00:00\", \"2019-06-25T00:00:00\", \"2019-06-26T00:00:00\", \"2019-06-27T00:00:00\", \"2019-06-28T00:00:00\", \"2019-07-01T00:00:00\", \"2019-07-02T00:00:00\", \"2019-07-03T00:00:00\", \"2019-07-05T00:00:00\", \"2019-07-08T00:00:00\", \"2019-07-09T00:00:00\", \"2019-07-10T00:00:00\", \"2019-07-11T00:00:00\", \"2019-07-12T00:00:00\", \"2019-07-15T00:00:00\", \"2019-07-16T00:00:00\", \"2019-07-17T00:00:00\", \"2019-07-18T00:00:00\", \"2019-07-19T00:00:00\", \"2019-07-22T00:00:00\", \"2019-07-23T00:00:00\", \"2019-07-24T00:00:00\", \"2019-07-25T00:00:00\", \"2019-07-26T00:00:00\", \"2019-07-29T00:00:00\", \"2019-07-30T00:00:00\", \"2019-07-31T00:00:00\", \"2019-08-01T00:00:00\", \"2019-08-02T00:00:00\", \"2019-08-05T00:00:00\", \"2019-08-06T00:00:00\", \"2019-08-07T00:00:00\", \"2019-08-08T00:00:00\", \"2019-08-09T00:00:00\", \"2019-08-12T00:00:00\", \"2019-08-13T00:00:00\", \"2019-08-14T00:00:00\", \"2019-08-15T00:00:00\", \"2019-08-16T00:00:00\", \"2019-08-19T00:00:00\", \"2019-08-20T00:00:00\", \"2019-08-21T00:00:00\", \"2019-08-22T00:00:00\", \"2019-08-23T00:00:00\", \"2019-08-26T00:00:00\", \"2019-08-27T00:00:00\", \"2019-08-28T00:00:00\", \"2019-08-29T00:00:00\", \"2019-08-30T00:00:00\", \"2019-09-03T00:00:00\", \"2019-09-04T00:00:00\", \"2019-09-05T00:00:00\", \"2019-09-06T00:00:00\", \"2019-09-09T00:00:00\", \"2019-09-10T00:00:00\", \"2019-09-11T00:00:00\", \"2019-09-12T00:00:00\", \"2019-09-13T00:00:00\", \"2019-09-16T00:00:00\", \"2019-09-17T00:00:00\", \"2019-09-18T00:00:00\", \"2019-09-19T00:00:00\", \"2019-09-20T00:00:00\", \"2019-09-23T00:00:00\", \"2019-09-24T00:00:00\", \"2019-09-25T00:00:00\", \"2019-09-26T00:00:00\", \"2019-09-27T00:00:00\", \"2019-09-30T00:00:00\", \"2019-10-01T00:00:00\", \"2019-10-02T00:00:00\", \"2019-10-03T00:00:00\", \"2019-10-04T00:00:00\", \"2019-10-07T00:00:00\", \"2019-10-08T00:00:00\", \"2019-10-09T00:00:00\", \"2019-10-10T00:00:00\", \"2019-10-11T00:00:00\", \"2019-10-14T00:00:00\", \"2019-10-15T00:00:00\", \"2019-10-16T00:00:00\", \"2019-10-17T00:00:00\", \"2019-10-18T00:00:00\", \"2019-10-21T00:00:00\", \"2019-10-22T00:00:00\", \"2019-10-23T00:00:00\", \"2019-10-24T00:00:00\", \"2019-10-25T00:00:00\", \"2019-10-28T00:00:00\", \"2019-10-29T00:00:00\", \"2019-10-30T00:00:00\", \"2019-10-31T00:00:00\", \"2019-11-01T00:00:00\", \"2019-11-04T00:00:00\", \"2019-11-05T00:00:00\", \"2019-11-06T00:00:00\", \"2019-11-07T00:00:00\", \"2019-11-08T00:00:00\", \"2019-11-11T00:00:00\", \"2019-11-12T00:00:00\", \"2019-11-13T00:00:00\", \"2019-11-14T00:00:00\", \"2019-11-15T00:00:00\", \"2019-11-18T00:00:00\", \"2019-11-19T00:00:00\", \"2019-11-20T00:00:00\", \"2019-11-21T00:00:00\", \"2019-11-22T00:00:00\", \"2019-11-25T00:00:00\", \"2019-11-26T00:00:00\", \"2019-11-27T00:00:00\", \"2019-11-29T00:00:00\", \"2019-12-02T00:00:00\", \"2019-12-03T00:00:00\", \"2019-12-04T00:00:00\", \"2019-12-05T00:00:00\", \"2019-12-06T00:00:00\", \"2019-12-09T00:00:00\", \"2019-12-10T00:00:00\", \"2019-12-11T00:00:00\", \"2019-12-12T00:00:00\", \"2019-12-13T00:00:00\", \"2019-12-16T00:00:00\", \"2019-12-17T00:00:00\", \"2019-12-18T00:00:00\", \"2019-12-19T00:00:00\", \"2019-12-20T00:00:00\", \"2019-12-23T00:00:00\", \"2019-12-24T00:00:00\", \"2019-12-26T00:00:00\", \"2019-12-27T00:00:00\", \"2019-12-30T00:00:00\", \"2019-12-31T00:00:00\", \"2020-01-02T00:00:00\", \"2020-01-03T00:00:00\", \"2020-01-06T00:00:00\", \"2020-01-07T00:00:00\", \"2020-01-08T00:00:00\", \"2020-01-09T00:00:00\", \"2020-01-10T00:00:00\", \"2020-01-13T00:00:00\", \"2020-01-14T00:00:00\", \"2020-01-15T00:00:00\", \"2020-01-16T00:00:00\", \"2020-01-17T00:00:00\", \"2020-01-21T00:00:00\", \"2020-01-22T00:00:00\", \"2020-01-23T00:00:00\", \"2020-01-24T00:00:00\", \"2020-01-27T00:00:00\", \"2020-01-28T00:00:00\", \"2020-01-29T00:00:00\", \"2020-01-30T00:00:00\", \"2020-01-31T00:00:00\", \"2020-02-03T00:00:00\", \"2020-02-04T00:00:00\", \"2020-02-05T00:00:00\", \"2020-02-06T00:00:00\", \"2020-02-07T00:00:00\", \"2020-02-10T00:00:00\", \"2020-02-11T00:00:00\", \"2020-02-12T00:00:00\", \"2020-02-13T00:00:00\", \"2020-02-14T00:00:00\", \"2020-02-18T00:00:00\", \"2020-02-19T00:00:00\", \"2020-02-20T00:00:00\", \"2020-02-21T00:00:00\", \"2020-02-24T00:00:00\", \"2020-02-25T00:00:00\", \"2020-02-26T00:00:00\", \"2020-02-27T00:00:00\", \"2020-02-28T00:00:00\", \"2020-03-02T00:00:00\", \"2020-03-03T00:00:00\", \"2020-03-04T00:00:00\", \"2020-03-05T00:00:00\", \"2020-03-06T00:00:00\", \"2020-03-09T00:00:00\", \"2020-03-10T00:00:00\", \"2020-03-11T00:00:00\", \"2020-03-12T00:00:00\", \"2020-03-13T00:00:00\", \"2020-03-16T00:00:00\", \"2020-03-17T00:00:00\", \"2020-03-18T00:00:00\", \"2020-03-19T00:00:00\", \"2020-03-20T00:00:00\", \"2020-03-23T00:00:00\", \"2020-03-24T00:00:00\", \"2020-03-25T00:00:00\", \"2020-03-26T00:00:00\", \"2020-03-27T00:00:00\", \"2020-03-30T00:00:00\", \"2020-03-31T00:00:00\", \"2020-04-01T00:00:00\", \"2020-04-02T00:00:00\", \"2020-04-03T00:00:00\", \"2020-04-06T00:00:00\", \"2020-04-07T00:00:00\", \"2020-04-08T00:00:00\", \"2020-04-09T00:00:00\", \"2020-04-13T00:00:00\", \"2020-04-14T00:00:00\", \"2020-04-15T00:00:00\", \"2020-04-16T00:00:00\", \"2020-04-17T00:00:00\", \"2020-04-20T00:00:00\", \"2020-04-21T00:00:00\", \"2020-04-22T00:00:00\", \"2020-04-23T00:00:00\", \"2020-04-24T00:00:00\", \"2020-04-27T00:00:00\", \"2020-04-28T00:00:00\", \"2020-04-29T00:00:00\", \"2020-04-30T00:00:00\", \"2020-05-01T00:00:00\", \"2020-05-04T00:00:00\", \"2020-05-05T00:00:00\", \"2020-05-06T00:00:00\", \"2020-05-07T00:00:00\", \"2020-05-08T00:00:00\", \"2020-05-11T00:00:00\", \"2020-05-12T00:00:00\", \"2020-05-13T00:00:00\", \"2020-05-14T00:00:00\", \"2020-05-15T00:00:00\", \"2020-05-18T00:00:00\", \"2020-05-19T00:00:00\", \"2020-05-20T00:00:00\", \"2020-05-21T00:00:00\", \"2020-05-22T00:00:00\", \"2020-05-26T00:00:00\", \"2020-05-27T00:00:00\", \"2020-05-28T00:00:00\", \"2020-05-29T00:00:00\", \"2020-06-01T00:00:00\", \"2020-06-02T00:00:00\", \"2020-06-03T00:00:00\", \"2020-06-04T00:00:00\", \"2020-06-05T00:00:00\", \"2020-06-08T00:00:00\", \"2020-06-09T00:00:00\", \"2020-06-10T00:00:00\", \"2020-06-11T00:00:00\", \"2020-06-12T00:00:00\", \"2020-06-15T00:00:00\", \"2020-06-16T00:00:00\", \"2020-06-17T00:00:00\", \"2020-06-18T00:00:00\", \"2020-06-19T00:00:00\", \"2020-06-22T00:00:00\", \"2020-06-23T00:00:00\", \"2020-06-24T00:00:00\", \"2020-06-25T00:00:00\", \"2020-06-26T00:00:00\", \"2020-06-29T00:00:00\", \"2020-06-30T00:00:00\", \"2020-07-01T00:00:00\", \"2020-07-02T00:00:00\", \"2020-07-06T00:00:00\", \"2020-07-07T00:00:00\", \"2020-07-08T00:00:00\", \"2020-07-09T00:00:00\", \"2020-07-10T00:00:00\", \"2020-07-13T00:00:00\", \"2020-07-14T00:00:00\", \"2020-07-15T00:00:00\", \"2020-07-16T00:00:00\", \"2020-07-17T00:00:00\", \"2020-07-20T00:00:00\", \"2020-07-21T00:00:00\", \"2020-07-22T00:00:00\", \"2020-07-23T00:00:00\", \"2020-07-24T00:00:00\", \"2020-07-27T00:00:00\", \"2020-07-28T00:00:00\", \"2020-07-29T00:00:00\", \"2020-07-30T00:00:00\", \"2020-07-31T00:00:00\", \"2020-08-03T00:00:00\", \"2020-08-04T00:00:00\", \"2020-08-05T00:00:00\", \"2020-08-06T00:00:00\", \"2020-08-07T00:00:00\", \"2020-08-10T00:00:00\", \"2020-08-11T00:00:00\", \"2020-08-12T00:00:00\", \"2020-08-13T00:00:00\", \"2020-08-14T00:00:00\", \"2020-08-17T00:00:00\", \"2020-08-18T00:00:00\", \"2020-08-19T00:00:00\", \"2020-08-20T00:00:00\", \"2020-08-21T00:00:00\", \"2020-08-24T00:00:00\", \"2020-08-25T00:00:00\", \"2020-08-26T00:00:00\", \"2020-08-27T00:00:00\", \"2020-08-28T00:00:00\", \"2020-08-31T00:00:00\", \"2020-09-01T00:00:00\", \"2020-09-02T00:00:00\", \"2020-09-03T00:00:00\", \"2020-09-04T00:00:00\", \"2020-09-08T00:00:00\", \"2020-09-09T00:00:00\", \"2020-09-10T00:00:00\", \"2020-09-11T00:00:00\", \"2020-09-14T00:00:00\", \"2020-09-15T00:00:00\", \"2020-09-16T00:00:00\"]}],\n",
              "                        {\"template\": {\"data\": {\"bar\": [{\"error_x\": {\"color\": \"#2a3f5f\"}, \"error_y\": {\"color\": \"#2a3f5f\"}, \"marker\": {\"line\": {\"color\": \"#E5ECF6\", \"width\": 0.5}}, \"type\": \"bar\"}], \"barpolar\": [{\"marker\": {\"line\": {\"color\": \"#E5ECF6\", \"width\": 0.5}}, \"type\": \"barpolar\"}], \"carpet\": [{\"aaxis\": {\"endlinecolor\": \"#2a3f5f\", \"gridcolor\": \"white\", \"linecolor\": \"white\", \"minorgridcolor\": \"white\", \"startlinecolor\": \"#2a3f5f\"}, \"baxis\": {\"endlinecolor\": \"#2a3f5f\", \"gridcolor\": \"white\", \"linecolor\": \"white\", \"minorgridcolor\": \"white\", \"startlinecolor\": \"#2a3f5f\"}, \"type\": \"carpet\"}], \"choropleth\": [{\"colorbar\": {\"outlinewidth\": 0, \"ticks\": \"\"}, \"type\": \"choropleth\"}], \"contour\": [{\"colorbar\": {\"outlinewidth\": 0, \"ticks\": \"\"}, \"colorscale\": [[0.0, \"#0d0887\"], [0.1111111111111111, \"#46039f\"], [0.2222222222222222, \"#7201a8\"], [0.3333333333333333, \"#9c179e\"], [0.4444444444444444, \"#bd3786\"], [0.5555555555555556, \"#d8576b\"], [0.6666666666666666, \"#ed7953\"], [0.7777777777777778, \"#fb9f3a\"], [0.8888888888888888, \"#fdca26\"], [1.0, \"#f0f921\"]], \"type\": \"contour\"}], \"contourcarpet\": [{\"colorbar\": {\"outlinewidth\": 0, \"ticks\": \"\"}, \"type\": \"contourcarpet\"}], \"heatmap\": [{\"colorbar\": {\"outlinewidth\": 0, \"ticks\": \"\"}, \"colorscale\": [[0.0, \"#0d0887\"], [0.1111111111111111, \"#46039f\"], [0.2222222222222222, \"#7201a8\"], [0.3333333333333333, \"#9c179e\"], [0.4444444444444444, \"#bd3786\"], [0.5555555555555556, \"#d8576b\"], [0.6666666666666666, \"#ed7953\"], [0.7777777777777778, \"#fb9f3a\"], [0.8888888888888888, \"#fdca26\"], [1.0, \"#f0f921\"]], \"type\": \"heatmap\"}], \"heatmapgl\": [{\"colorbar\": {\"outlinewidth\": 0, \"ticks\": \"\"}, \"colorscale\": [[0.0, \"#0d0887\"], [0.1111111111111111, \"#46039f\"], [0.2222222222222222, \"#7201a8\"], [0.3333333333333333, \"#9c179e\"], [0.4444444444444444, \"#bd3786\"], [0.5555555555555556, \"#d8576b\"], [0.6666666666666666, \"#ed7953\"], [0.7777777777777778, \"#fb9f3a\"], [0.8888888888888888, \"#fdca26\"], [1.0, \"#f0f921\"]], \"type\": \"heatmapgl\"}], \"histogram\": [{\"marker\": {\"colorbar\": {\"outlinewidth\": 0, \"ticks\": \"\"}}, \"type\": \"histogram\"}], \"histogram2d\": [{\"colorbar\": {\"outlinewidth\": 0, \"ticks\": \"\"}, \"colorscale\": [[0.0, \"#0d0887\"], [0.1111111111111111, \"#46039f\"], [0.2222222222222222, \"#7201a8\"], [0.3333333333333333, \"#9c179e\"], [0.4444444444444444, \"#bd3786\"], [0.5555555555555556, \"#d8576b\"], [0.6666666666666666, \"#ed7953\"], [0.7777777777777778, \"#fb9f3a\"], [0.8888888888888888, \"#fdca26\"], [1.0, \"#f0f921\"]], \"type\": \"histogram2d\"}], \"histogram2dcontour\": [{\"colorbar\": {\"outlinewidth\": 0, \"ticks\": \"\"}, \"colorscale\": [[0.0, \"#0d0887\"], [0.1111111111111111, \"#46039f\"], [0.2222222222222222, \"#7201a8\"], [0.3333333333333333, \"#9c179e\"], [0.4444444444444444, \"#bd3786\"], [0.5555555555555556, \"#d8576b\"], [0.6666666666666666, \"#ed7953\"], [0.7777777777777778, \"#fb9f3a\"], [0.8888888888888888, \"#fdca26\"], [1.0, \"#f0f921\"]], \"type\": \"histogram2dcontour\"}], \"mesh3d\": [{\"colorbar\": {\"outlinewidth\": 0, \"ticks\": \"\"}, \"type\": \"mesh3d\"}], \"parcoords\": [{\"line\": {\"colorbar\": {\"outlinewidth\": 0, \"ticks\": \"\"}}, \"type\": \"parcoords\"}], \"pie\": [{\"automargin\": true, \"type\": \"pie\"}], \"scatter\": [{\"marker\": {\"colorbar\": {\"outlinewidth\": 0, \"ticks\": \"\"}}, \"type\": \"scatter\"}], \"scatter3d\": [{\"line\": {\"colorbar\": {\"outlinewidth\": 0, \"ticks\": \"\"}}, \"marker\": {\"colorbar\": {\"outlinewidth\": 0, \"ticks\": \"\"}}, \"type\": \"scatter3d\"}], \"scattercarpet\": [{\"marker\": {\"colorbar\": {\"outlinewidth\": 0, \"ticks\": \"\"}}, \"type\": \"scattercarpet\"}], \"scattergeo\": [{\"marker\": {\"colorbar\": {\"outlinewidth\": 0, \"ticks\": \"\"}}, \"type\": \"scattergeo\"}], \"scattergl\": [{\"marker\": {\"colorbar\": {\"outlinewidth\": 0, \"ticks\": \"\"}}, \"type\": \"scattergl\"}], \"scattermapbox\": [{\"marker\": {\"colorbar\": {\"outlinewidth\": 0, \"ticks\": \"\"}}, \"type\": \"scattermapbox\"}], \"scatterpolar\": [{\"marker\": {\"colorbar\": {\"outlinewidth\": 0, \"ticks\": \"\"}}, \"type\": \"scatterpolar\"}], \"scatterpolargl\": [{\"marker\": {\"colorbar\": {\"outlinewidth\": 0, \"ticks\": \"\"}}, \"type\": \"scatterpolargl\"}], \"scatterternary\": [{\"marker\": {\"colorbar\": {\"outlinewidth\": 0, \"ticks\": \"\"}}, \"type\": \"scatterternary\"}], \"surface\": [{\"colorbar\": {\"outlinewidth\": 0, \"ticks\": \"\"}, \"colorscale\": [[0.0, \"#0d0887\"], [0.1111111111111111, \"#46039f\"], [0.2222222222222222, \"#7201a8\"], [0.3333333333333333, \"#9c179e\"], [0.4444444444444444, \"#bd3786\"], [0.5555555555555556, \"#d8576b\"], [0.6666666666666666, \"#ed7953\"], [0.7777777777777778, \"#fb9f3a\"], [0.8888888888888888, \"#fdca26\"], [1.0, \"#f0f921\"]], \"type\": \"surface\"}], \"table\": [{\"cells\": {\"fill\": {\"color\": \"#EBF0F8\"}, \"line\": {\"color\": \"white\"}}, \"header\": {\"fill\": {\"color\": \"#C8D4E3\"}, \"line\": {\"color\": \"white\"}}, \"type\": \"table\"}]}, \"layout\": {\"annotationdefaults\": {\"arrowcolor\": \"#2a3f5f\", \"arrowhead\": 0, \"arrowwidth\": 1}, \"coloraxis\": {\"colorbar\": {\"outlinewidth\": 0, \"ticks\": \"\"}}, \"colorscale\": {\"diverging\": [[0, \"#8e0152\"], [0.1, \"#c51b7d\"], [0.2, \"#de77ae\"], [0.3, \"#f1b6da\"], [0.4, \"#fde0ef\"], [0.5, \"#f7f7f7\"], [0.6, \"#e6f5d0\"], [0.7, \"#b8e186\"], [0.8, \"#7fbc41\"], [0.9, \"#4d9221\"], [1, \"#276419\"]], \"sequential\": [[0.0, \"#0d0887\"], [0.1111111111111111, \"#46039f\"], [0.2222222222222222, \"#7201a8\"], [0.3333333333333333, \"#9c179e\"], [0.4444444444444444, \"#bd3786\"], [0.5555555555555556, \"#d8576b\"], [0.6666666666666666, \"#ed7953\"], [0.7777777777777778, \"#fb9f3a\"], [0.8888888888888888, \"#fdca26\"], [1.0, \"#f0f921\"]], \"sequentialminus\": [[0.0, \"#0d0887\"], [0.1111111111111111, \"#46039f\"], [0.2222222222222222, \"#7201a8\"], [0.3333333333333333, \"#9c179e\"], [0.4444444444444444, \"#bd3786\"], [0.5555555555555556, \"#d8576b\"], [0.6666666666666666, \"#ed7953\"], [0.7777777777777778, \"#fb9f3a\"], [0.8888888888888888, \"#fdca26\"], [1.0, \"#f0f921\"]]}, \"colorway\": [\"#636efa\", \"#EF553B\", \"#00cc96\", \"#ab63fa\", \"#FFA15A\", \"#19d3f3\", \"#FF6692\", \"#B6E880\", \"#FF97FF\", \"#FECB52\"], \"font\": {\"color\": \"#2a3f5f\"}, \"geo\": {\"bgcolor\": \"white\", \"lakecolor\": \"white\", \"landcolor\": \"#E5ECF6\", \"showlakes\": true, \"showland\": true, \"subunitcolor\": \"white\"}, \"hoverlabel\": {\"align\": \"left\"}, \"hovermode\": \"closest\", \"mapbox\": {\"style\": \"light\"}, \"paper_bgcolor\": \"white\", \"plot_bgcolor\": \"#E5ECF6\", \"polar\": {\"angularaxis\": {\"gridcolor\": \"white\", \"linecolor\": \"white\", \"ticks\": \"\"}, \"bgcolor\": \"#E5ECF6\", \"radialaxis\": {\"gridcolor\": \"white\", \"linecolor\": \"white\", \"ticks\": \"\"}}, \"scene\": {\"xaxis\": {\"backgroundcolor\": \"#E5ECF6\", \"gridcolor\": \"white\", \"gridwidth\": 2, \"linecolor\": \"white\", \"showbackground\": true, \"ticks\": \"\", \"zerolinecolor\": \"white\"}, \"yaxis\": {\"backgroundcolor\": \"#E5ECF6\", \"gridcolor\": \"white\", \"gridwidth\": 2, \"linecolor\": \"white\", \"showbackground\": true, \"ticks\": \"\", \"zerolinecolor\": \"white\"}, \"zaxis\": {\"backgroundcolor\": \"#E5ECF6\", \"gridcolor\": \"white\", \"gridwidth\": 2, \"linecolor\": \"white\", \"showbackground\": true, \"ticks\": \"\", \"zerolinecolor\": \"white\"}}, \"shapedefaults\": {\"line\": {\"color\": \"#2a3f5f\"}}, \"ternary\": {\"aaxis\": {\"gridcolor\": \"white\", \"linecolor\": \"white\", \"ticks\": \"\"}, \"baxis\": {\"gridcolor\": \"white\", \"linecolor\": \"white\", \"ticks\": \"\"}, \"bgcolor\": \"#E5ECF6\", \"caxis\": {\"gridcolor\": \"white\", \"linecolor\": \"white\", \"ticks\": \"\"}}, \"title\": {\"x\": 0.05}, \"xaxis\": {\"automargin\": true, \"gridcolor\": \"white\", \"linecolor\": \"white\", \"ticks\": \"\", \"title\": {\"standoff\": 15}, \"zerolinecolor\": \"white\", \"zerolinewidth\": 2}, \"yaxis\": {\"automargin\": true, \"gridcolor\": \"white\", \"linecolor\": \"white\", \"ticks\": \"\", \"title\": {\"standoff\": 15}, \"zerolinecolor\": \"white\", \"zerolinewidth\": 2}}}, \"title\": {\"font\": {\"size\": 15}, \"text\": \"MSFT\"}},\n",
              "                        {\"responsive\": true}\n",
              "                    ).then(function(){\n",
              "                            \n",
              "var gd = document.getElementById('ccd758a8-9fc5-4baa-8968-560170854b5b');\n",
              "var x = new MutationObserver(function (mutations, observer) {{\n",
              "        var display = window.getComputedStyle(gd).display;\n",
              "        if (!display || display === 'none') {{\n",
              "            console.log([gd, 'removed!']);\n",
              "            Plotly.purge(gd);\n",
              "            observer.disconnect();\n",
              "        }}\n",
              "}});\n",
              "\n",
              "// Listen for the removal of the full notebook cells\n",
              "var notebookContainer = gd.closest('#notebook-container');\n",
              "if (notebookContainer) {{\n",
              "    x.observe(notebookContainer, {childList: true});\n",
              "}}\n",
              "\n",
              "// Listen for the clearing of the current output cell\n",
              "var outputEl = gd.closest('.output');\n",
              "if (outputEl) {{\n",
              "    x.observe(outputEl, {childList: true});\n",
              "}}\n",
              "\n",
              "                        })\n",
              "                };\n",
              "                \n",
              "            </script>\n",
              "        </div>\n",
              "</body>\n",
              "</html>"
            ]
          },
          "metadata": {
            "tags": []
          }
        }
      ]
    },
    {
      "cell_type": "code",
      "metadata": {
        "id": "Jy8D5KDNdl_q",
        "colab_type": "code",
        "colab": {}
      },
      "source": [
        ""
      ],
      "execution_count": null,
      "outputs": []
    }
  ]
}